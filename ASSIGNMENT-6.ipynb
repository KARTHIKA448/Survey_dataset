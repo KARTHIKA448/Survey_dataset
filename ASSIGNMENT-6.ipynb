{
 "cells": [
  {
   "cell_type": "code",
   "execution_count": 1,
   "id": "4bb80e6f",
   "metadata": {},
   "outputs": [],
   "source": [
    "import pandas as pd\n"
   ]
  },
  {
   "cell_type": "code",
   "execution_count": 2,
   "id": "c8f16079",
   "metadata": {},
   "outputs": [
    {
     "data": {
      "text/html": [
       "<div>\n",
       "<style scoped>\n",
       "    .dataframe tbody tr th:only-of-type {\n",
       "        vertical-align: middle;\n",
       "    }\n",
       "\n",
       "    .dataframe tbody tr th {\n",
       "        vertical-align: top;\n",
       "    }\n",
       "\n",
       "    .dataframe thead th {\n",
       "        text-align: right;\n",
       "    }\n",
       "</style>\n",
       "<table border=\"1\" class=\"dataframe\">\n",
       "  <thead>\n",
       "    <tr style=\"text-align: right;\">\n",
       "      <th></th>\n",
       "      <th>MainBranch</th>\n",
       "      <th>Hobbyist</th>\n",
       "      <th>OpenSourcer</th>\n",
       "      <th>OpenSource</th>\n",
       "      <th>Employment</th>\n",
       "      <th>Country</th>\n",
       "      <th>Student</th>\n",
       "      <th>EdLevel</th>\n",
       "      <th>UndergradMajor</th>\n",
       "      <th>EduOther</th>\n",
       "      <th>...</th>\n",
       "      <th>WelcomeChange</th>\n",
       "      <th>SONewContent</th>\n",
       "      <th>Age</th>\n",
       "      <th>Gender</th>\n",
       "      <th>Trans</th>\n",
       "      <th>Sexuality</th>\n",
       "      <th>Ethnicity</th>\n",
       "      <th>Dependents</th>\n",
       "      <th>SurveyLength</th>\n",
       "      <th>SurveyEase</th>\n",
       "    </tr>\n",
       "    <tr>\n",
       "      <th>Respondent</th>\n",
       "      <th></th>\n",
       "      <th></th>\n",
       "      <th></th>\n",
       "      <th></th>\n",
       "      <th></th>\n",
       "      <th></th>\n",
       "      <th></th>\n",
       "      <th></th>\n",
       "      <th></th>\n",
       "      <th></th>\n",
       "      <th></th>\n",
       "      <th></th>\n",
       "      <th></th>\n",
       "      <th></th>\n",
       "      <th></th>\n",
       "      <th></th>\n",
       "      <th></th>\n",
       "      <th></th>\n",
       "      <th></th>\n",
       "      <th></th>\n",
       "      <th></th>\n",
       "    </tr>\n",
       "  </thead>\n",
       "  <tbody>\n",
       "    <tr>\n",
       "      <th>1</th>\n",
       "      <td>I am a student who is learning to code</td>\n",
       "      <td>Yes</td>\n",
       "      <td>Never</td>\n",
       "      <td>The quality of OSS and closed source software ...</td>\n",
       "      <td>Not employed, and not looking for work</td>\n",
       "      <td>United Kingdom</td>\n",
       "      <td>No</td>\n",
       "      <td>Primary/elementary school</td>\n",
       "      <td>NaN</td>\n",
       "      <td>Taught yourself a new language, framework, or ...</td>\n",
       "      <td>...</td>\n",
       "      <td>Just as welcome now as I felt last year</td>\n",
       "      <td>Tech articles written by other developers;Indu...</td>\n",
       "      <td>14.0</td>\n",
       "      <td>Man</td>\n",
       "      <td>No</td>\n",
       "      <td>Straight / Heterosexual</td>\n",
       "      <td>NaN</td>\n",
       "      <td>No</td>\n",
       "      <td>Appropriate in length</td>\n",
       "      <td>Neither easy nor difficult</td>\n",
       "    </tr>\n",
       "    <tr>\n",
       "      <th>2</th>\n",
       "      <td>I am a student who is learning to code</td>\n",
       "      <td>No</td>\n",
       "      <td>Less than once per year</td>\n",
       "      <td>The quality of OSS and closed source software ...</td>\n",
       "      <td>Not employed, but looking for work</td>\n",
       "      <td>Bosnia and Herzegovina</td>\n",
       "      <td>Yes, full-time</td>\n",
       "      <td>Secondary school (e.g. American high school, G...</td>\n",
       "      <td>NaN</td>\n",
       "      <td>Taken an online course in programming or softw...</td>\n",
       "      <td>...</td>\n",
       "      <td>Just as welcome now as I felt last year</td>\n",
       "      <td>Tech articles written by other developers;Indu...</td>\n",
       "      <td>19.0</td>\n",
       "      <td>Man</td>\n",
       "      <td>No</td>\n",
       "      <td>Straight / Heterosexual</td>\n",
       "      <td>NaN</td>\n",
       "      <td>No</td>\n",
       "      <td>Appropriate in length</td>\n",
       "      <td>Neither easy nor difficult</td>\n",
       "    </tr>\n",
       "    <tr>\n",
       "      <th>3</th>\n",
       "      <td>I am not primarily a developer, but I write co...</td>\n",
       "      <td>Yes</td>\n",
       "      <td>Never</td>\n",
       "      <td>The quality of OSS and closed source software ...</td>\n",
       "      <td>Employed full-time</td>\n",
       "      <td>Thailand</td>\n",
       "      <td>No</td>\n",
       "      <td>Bachelor’s degree (BA, BS, B.Eng., etc.)</td>\n",
       "      <td>Web development or web design</td>\n",
       "      <td>Taught yourself a new language, framework, or ...</td>\n",
       "      <td>...</td>\n",
       "      <td>Just as welcome now as I felt last year</td>\n",
       "      <td>Tech meetups or events in your area;Courses on...</td>\n",
       "      <td>28.0</td>\n",
       "      <td>Man</td>\n",
       "      <td>No</td>\n",
       "      <td>Straight / Heterosexual</td>\n",
       "      <td>NaN</td>\n",
       "      <td>Yes</td>\n",
       "      <td>Appropriate in length</td>\n",
       "      <td>Neither easy nor difficult</td>\n",
       "    </tr>\n",
       "    <tr>\n",
       "      <th>4</th>\n",
       "      <td>I am a developer by profession</td>\n",
       "      <td>No</td>\n",
       "      <td>Never</td>\n",
       "      <td>The quality of OSS and closed source software ...</td>\n",
       "      <td>Employed full-time</td>\n",
       "      <td>United States</td>\n",
       "      <td>No</td>\n",
       "      <td>Bachelor’s degree (BA, BS, B.Eng., etc.)</td>\n",
       "      <td>Computer science, computer engineering, or sof...</td>\n",
       "      <td>Taken an online course in programming or softw...</td>\n",
       "      <td>...</td>\n",
       "      <td>Just as welcome now as I felt last year</td>\n",
       "      <td>Tech articles written by other developers;Indu...</td>\n",
       "      <td>22.0</td>\n",
       "      <td>Man</td>\n",
       "      <td>No</td>\n",
       "      <td>Straight / Heterosexual</td>\n",
       "      <td>White or of European descent</td>\n",
       "      <td>No</td>\n",
       "      <td>Appropriate in length</td>\n",
       "      <td>Easy</td>\n",
       "    </tr>\n",
       "    <tr>\n",
       "      <th>5</th>\n",
       "      <td>I am a developer by profession</td>\n",
       "      <td>Yes</td>\n",
       "      <td>Once a month or more often</td>\n",
       "      <td>OSS is, on average, of HIGHER quality than pro...</td>\n",
       "      <td>Employed full-time</td>\n",
       "      <td>Ukraine</td>\n",
       "      <td>No</td>\n",
       "      <td>Bachelor’s degree (BA, BS, B.Eng., etc.)</td>\n",
       "      <td>Computer science, computer engineering, or sof...</td>\n",
       "      <td>Taken an online course in programming or softw...</td>\n",
       "      <td>...</td>\n",
       "      <td>Just as welcome now as I felt last year</td>\n",
       "      <td>Tech meetups or events in your area;Courses on...</td>\n",
       "      <td>30.0</td>\n",
       "      <td>Man</td>\n",
       "      <td>No</td>\n",
       "      <td>Straight / Heterosexual</td>\n",
       "      <td>White or of European descent;Multiracial</td>\n",
       "      <td>No</td>\n",
       "      <td>Appropriate in length</td>\n",
       "      <td>Easy</td>\n",
       "    </tr>\n",
       "    <tr>\n",
       "      <th>...</th>\n",
       "      <td>...</td>\n",
       "      <td>...</td>\n",
       "      <td>...</td>\n",
       "      <td>...</td>\n",
       "      <td>...</td>\n",
       "      <td>...</td>\n",
       "      <td>...</td>\n",
       "      <td>...</td>\n",
       "      <td>...</td>\n",
       "      <td>...</td>\n",
       "      <td>...</td>\n",
       "      <td>...</td>\n",
       "      <td>...</td>\n",
       "      <td>...</td>\n",
       "      <td>...</td>\n",
       "      <td>...</td>\n",
       "      <td>...</td>\n",
       "      <td>...</td>\n",
       "      <td>...</td>\n",
       "      <td>...</td>\n",
       "      <td>...</td>\n",
       "    </tr>\n",
       "    <tr>\n",
       "      <th>88377</th>\n",
       "      <td>NaN</td>\n",
       "      <td>Yes</td>\n",
       "      <td>Less than once a month but more than once per ...</td>\n",
       "      <td>The quality of OSS and closed source software ...</td>\n",
       "      <td>Not employed, and not looking for work</td>\n",
       "      <td>Canada</td>\n",
       "      <td>No</td>\n",
       "      <td>Primary/elementary school</td>\n",
       "      <td>NaN</td>\n",
       "      <td>Taught yourself a new language, framework, or ...</td>\n",
       "      <td>...</td>\n",
       "      <td>NaN</td>\n",
       "      <td>Tech articles written by other developers;Tech...</td>\n",
       "      <td>NaN</td>\n",
       "      <td>Man</td>\n",
       "      <td>No</td>\n",
       "      <td>NaN</td>\n",
       "      <td>NaN</td>\n",
       "      <td>No</td>\n",
       "      <td>Appropriate in length</td>\n",
       "      <td>Easy</td>\n",
       "    </tr>\n",
       "    <tr>\n",
       "      <th>88601</th>\n",
       "      <td>NaN</td>\n",
       "      <td>No</td>\n",
       "      <td>Never</td>\n",
       "      <td>The quality of OSS and closed source software ...</td>\n",
       "      <td>NaN</td>\n",
       "      <td>NaN</td>\n",
       "      <td>NaN</td>\n",
       "      <td>NaN</td>\n",
       "      <td>NaN</td>\n",
       "      <td>NaN</td>\n",
       "      <td>...</td>\n",
       "      <td>NaN</td>\n",
       "      <td>NaN</td>\n",
       "      <td>NaN</td>\n",
       "      <td>NaN</td>\n",
       "      <td>NaN</td>\n",
       "      <td>NaN</td>\n",
       "      <td>NaN</td>\n",
       "      <td>NaN</td>\n",
       "      <td>NaN</td>\n",
       "      <td>NaN</td>\n",
       "    </tr>\n",
       "    <tr>\n",
       "      <th>88802</th>\n",
       "      <td>NaN</td>\n",
       "      <td>No</td>\n",
       "      <td>Never</td>\n",
       "      <td>NaN</td>\n",
       "      <td>Employed full-time</td>\n",
       "      <td>NaN</td>\n",
       "      <td>NaN</td>\n",
       "      <td>NaN</td>\n",
       "      <td>NaN</td>\n",
       "      <td>NaN</td>\n",
       "      <td>...</td>\n",
       "      <td>NaN</td>\n",
       "      <td>NaN</td>\n",
       "      <td>NaN</td>\n",
       "      <td>NaN</td>\n",
       "      <td>NaN</td>\n",
       "      <td>NaN</td>\n",
       "      <td>NaN</td>\n",
       "      <td>NaN</td>\n",
       "      <td>NaN</td>\n",
       "      <td>NaN</td>\n",
       "    </tr>\n",
       "    <tr>\n",
       "      <th>88816</th>\n",
       "      <td>NaN</td>\n",
       "      <td>No</td>\n",
       "      <td>Never</td>\n",
       "      <td>OSS is, on average, of HIGHER quality than pro...</td>\n",
       "      <td>Independent contractor, freelancer, or self-em...</td>\n",
       "      <td>NaN</td>\n",
       "      <td>NaN</td>\n",
       "      <td>NaN</td>\n",
       "      <td>NaN</td>\n",
       "      <td>NaN</td>\n",
       "      <td>...</td>\n",
       "      <td>NaN</td>\n",
       "      <td>NaN</td>\n",
       "      <td>NaN</td>\n",
       "      <td>NaN</td>\n",
       "      <td>NaN</td>\n",
       "      <td>NaN</td>\n",
       "      <td>NaN</td>\n",
       "      <td>NaN</td>\n",
       "      <td>NaN</td>\n",
       "      <td>NaN</td>\n",
       "    </tr>\n",
       "    <tr>\n",
       "      <th>88863</th>\n",
       "      <td>NaN</td>\n",
       "      <td>Yes</td>\n",
       "      <td>Less than once per year</td>\n",
       "      <td>OSS is, on average, of HIGHER quality than pro...</td>\n",
       "      <td>Not employed, and not looking for work</td>\n",
       "      <td>Spain</td>\n",
       "      <td>Yes, full-time</td>\n",
       "      <td>Professional degree (JD, MD, etc.)</td>\n",
       "      <td>Computer science, computer engineering, or sof...</td>\n",
       "      <td>Taken an online course in programming or softw...</td>\n",
       "      <td>...</td>\n",
       "      <td>Somewhat less welcome now than last year</td>\n",
       "      <td>Tech articles written by other developers;Indu...</td>\n",
       "      <td>18.0</td>\n",
       "      <td>Man</td>\n",
       "      <td>No</td>\n",
       "      <td>Straight / Heterosexual</td>\n",
       "      <td>Hispanic or Latino/Latina;White or of European...</td>\n",
       "      <td>No</td>\n",
       "      <td>Appropriate in length</td>\n",
       "      <td>Easy</td>\n",
       "    </tr>\n",
       "  </tbody>\n",
       "</table>\n",
       "<p>88883 rows × 84 columns</p>\n",
       "</div>"
      ],
      "text/plain": [
       "                                                   MainBranch Hobbyist  \\\n",
       "Respondent                                                               \n",
       "1                      I am a student who is learning to code      Yes   \n",
       "2                      I am a student who is learning to code       No   \n",
       "3           I am not primarily a developer, but I write co...      Yes   \n",
       "4                              I am a developer by profession       No   \n",
       "5                              I am a developer by profession      Yes   \n",
       "...                                                       ...      ...   \n",
       "88377                                                     NaN      Yes   \n",
       "88601                                                     NaN       No   \n",
       "88802                                                     NaN       No   \n",
       "88816                                                     NaN       No   \n",
       "88863                                                     NaN      Yes   \n",
       "\n",
       "                                                  OpenSourcer  \\\n",
       "Respondent                                                      \n",
       "1                                                       Never   \n",
       "2                                     Less than once per year   \n",
       "3                                                       Never   \n",
       "4                                                       Never   \n",
       "5                                  Once a month or more often   \n",
       "...                                                       ...   \n",
       "88377       Less than once a month but more than once per ...   \n",
       "88601                                                   Never   \n",
       "88802                                                   Never   \n",
       "88816                                                   Never   \n",
       "88863                                 Less than once per year   \n",
       "\n",
       "                                                   OpenSource  \\\n",
       "Respondent                                                      \n",
       "1           The quality of OSS and closed source software ...   \n",
       "2           The quality of OSS and closed source software ...   \n",
       "3           The quality of OSS and closed source software ...   \n",
       "4           The quality of OSS and closed source software ...   \n",
       "5           OSS is, on average, of HIGHER quality than pro...   \n",
       "...                                                       ...   \n",
       "88377       The quality of OSS and closed source software ...   \n",
       "88601       The quality of OSS and closed source software ...   \n",
       "88802                                                     NaN   \n",
       "88816       OSS is, on average, of HIGHER quality than pro...   \n",
       "88863       OSS is, on average, of HIGHER quality than pro...   \n",
       "\n",
       "                                                   Employment  \\\n",
       "Respondent                                                      \n",
       "1                      Not employed, and not looking for work   \n",
       "2                          Not employed, but looking for work   \n",
       "3                                          Employed full-time   \n",
       "4                                          Employed full-time   \n",
       "5                                          Employed full-time   \n",
       "...                                                       ...   \n",
       "88377                  Not employed, and not looking for work   \n",
       "88601                                                     NaN   \n",
       "88802                                      Employed full-time   \n",
       "88816       Independent contractor, freelancer, or self-em...   \n",
       "88863                  Not employed, and not looking for work   \n",
       "\n",
       "                           Country         Student  \\\n",
       "Respondent                                           \n",
       "1                   United Kingdom              No   \n",
       "2           Bosnia and Herzegovina  Yes, full-time   \n",
       "3                         Thailand              No   \n",
       "4                    United States              No   \n",
       "5                          Ukraine              No   \n",
       "...                            ...             ...   \n",
       "88377                       Canada              No   \n",
       "88601                          NaN             NaN   \n",
       "88802                          NaN             NaN   \n",
       "88816                          NaN             NaN   \n",
       "88863                        Spain  Yes, full-time   \n",
       "\n",
       "                                                      EdLevel  \\\n",
       "Respondent                                                      \n",
       "1                                   Primary/elementary school   \n",
       "2           Secondary school (e.g. American high school, G...   \n",
       "3                    Bachelor’s degree (BA, BS, B.Eng., etc.)   \n",
       "4                    Bachelor’s degree (BA, BS, B.Eng., etc.)   \n",
       "5                    Bachelor’s degree (BA, BS, B.Eng., etc.)   \n",
       "...                                                       ...   \n",
       "88377                               Primary/elementary school   \n",
       "88601                                                     NaN   \n",
       "88802                                                     NaN   \n",
       "88816                                                     NaN   \n",
       "88863                      Professional degree (JD, MD, etc.)   \n",
       "\n",
       "                                               UndergradMajor  \\\n",
       "Respondent                                                      \n",
       "1                                                         NaN   \n",
       "2                                                         NaN   \n",
       "3                               Web development or web design   \n",
       "4           Computer science, computer engineering, or sof...   \n",
       "5           Computer science, computer engineering, or sof...   \n",
       "...                                                       ...   \n",
       "88377                                                     NaN   \n",
       "88601                                                     NaN   \n",
       "88802                                                     NaN   \n",
       "88816                                                     NaN   \n",
       "88863       Computer science, computer engineering, or sof...   \n",
       "\n",
       "                                                     EduOther  ...  \\\n",
       "Respondent                                                     ...   \n",
       "1           Taught yourself a new language, framework, or ...  ...   \n",
       "2           Taken an online course in programming or softw...  ...   \n",
       "3           Taught yourself a new language, framework, or ...  ...   \n",
       "4           Taken an online course in programming or softw...  ...   \n",
       "5           Taken an online course in programming or softw...  ...   \n",
       "...                                                       ...  ...   \n",
       "88377       Taught yourself a new language, framework, or ...  ...   \n",
       "88601                                                     NaN  ...   \n",
       "88802                                                     NaN  ...   \n",
       "88816                                                     NaN  ...   \n",
       "88863       Taken an online course in programming or softw...  ...   \n",
       "\n",
       "                                       WelcomeChange  \\\n",
       "Respondent                                             \n",
       "1            Just as welcome now as I felt last year   \n",
       "2            Just as welcome now as I felt last year   \n",
       "3            Just as welcome now as I felt last year   \n",
       "4            Just as welcome now as I felt last year   \n",
       "5            Just as welcome now as I felt last year   \n",
       "...                                              ...   \n",
       "88377                                            NaN   \n",
       "88601                                            NaN   \n",
       "88802                                            NaN   \n",
       "88816                                            NaN   \n",
       "88863       Somewhat less welcome now than last year   \n",
       "\n",
       "                                                 SONewContent   Age Gender  \\\n",
       "Respondent                                                                   \n",
       "1           Tech articles written by other developers;Indu...  14.0    Man   \n",
       "2           Tech articles written by other developers;Indu...  19.0    Man   \n",
       "3           Tech meetups or events in your area;Courses on...  28.0    Man   \n",
       "4           Tech articles written by other developers;Indu...  22.0    Man   \n",
       "5           Tech meetups or events in your area;Courses on...  30.0    Man   \n",
       "...                                                       ...   ...    ...   \n",
       "88377       Tech articles written by other developers;Tech...   NaN    Man   \n",
       "88601                                                     NaN   NaN    NaN   \n",
       "88802                                                     NaN   NaN    NaN   \n",
       "88816                                                     NaN   NaN    NaN   \n",
       "88863       Tech articles written by other developers;Indu...  18.0    Man   \n",
       "\n",
       "           Trans                Sexuality  \\\n",
       "Respondent                                  \n",
       "1             No  Straight / Heterosexual   \n",
       "2             No  Straight / Heterosexual   \n",
       "3             No  Straight / Heterosexual   \n",
       "4             No  Straight / Heterosexual   \n",
       "5             No  Straight / Heterosexual   \n",
       "...          ...                      ...   \n",
       "88377         No                      NaN   \n",
       "88601        NaN                      NaN   \n",
       "88802        NaN                      NaN   \n",
       "88816        NaN                      NaN   \n",
       "88863         No  Straight / Heterosexual   \n",
       "\n",
       "                                                    Ethnicity Dependents  \\\n",
       "Respondent                                                                 \n",
       "1                                                         NaN         No   \n",
       "2                                                         NaN         No   \n",
       "3                                                         NaN        Yes   \n",
       "4                                White or of European descent         No   \n",
       "5                    White or of European descent;Multiracial         No   \n",
       "...                                                       ...        ...   \n",
       "88377                                                     NaN         No   \n",
       "88601                                                     NaN        NaN   \n",
       "88802                                                     NaN        NaN   \n",
       "88816                                                     NaN        NaN   \n",
       "88863       Hispanic or Latino/Latina;White or of European...         No   \n",
       "\n",
       "                     SurveyLength                  SurveyEase  \n",
       "Respondent                                                     \n",
       "1           Appropriate in length  Neither easy nor difficult  \n",
       "2           Appropriate in length  Neither easy nor difficult  \n",
       "3           Appropriate in length  Neither easy nor difficult  \n",
       "4           Appropriate in length                        Easy  \n",
       "5           Appropriate in length                        Easy  \n",
       "...                           ...                         ...  \n",
       "88377       Appropriate in length                        Easy  \n",
       "88601                         NaN                         NaN  \n",
       "88802                         NaN                         NaN  \n",
       "88816                         NaN                         NaN  \n",
       "88863       Appropriate in length                        Easy  \n",
       "\n",
       "[88883 rows x 84 columns]"
      ]
     },
     "execution_count": 2,
     "metadata": {},
     "output_type": "execute_result"
    }
   ],
   "source": [
    "survey=pd.read_csv(\"survey_results_public.csv\",index_col=\"Respondent\")\n",
    "survey"
   ]
  },
  {
   "cell_type": "code",
   "execution_count": 3,
   "id": "6952ca6e",
   "metadata": {},
   "outputs": [
    {
     "data": {
      "text/html": [
       "<div>\n",
       "<style scoped>\n",
       "    .dataframe tbody tr th:only-of-type {\n",
       "        vertical-align: middle;\n",
       "    }\n",
       "\n",
       "    .dataframe tbody tr th {\n",
       "        vertical-align: top;\n",
       "    }\n",
       "\n",
       "    .dataframe thead th {\n",
       "        text-align: right;\n",
       "    }\n",
       "</style>\n",
       "<table border=\"1\" class=\"dataframe\">\n",
       "  <thead>\n",
       "    <tr style=\"text-align: right;\">\n",
       "      <th></th>\n",
       "      <th>QuestionText</th>\n",
       "    </tr>\n",
       "    <tr>\n",
       "      <th>Column</th>\n",
       "      <th></th>\n",
       "    </tr>\n",
       "  </thead>\n",
       "  <tbody>\n",
       "    <tr>\n",
       "      <th>Age</th>\n",
       "      <td>What is your age (in years)? If you prefer not...</td>\n",
       "    </tr>\n",
       "    <tr>\n",
       "      <th>Age1stCode</th>\n",
       "      <td>At what age did you write your first line of c...</td>\n",
       "    </tr>\n",
       "    <tr>\n",
       "      <th>BetterLife</th>\n",
       "      <td>Do you think people born today will have a bet...</td>\n",
       "    </tr>\n",
       "    <tr>\n",
       "      <th>BlockchainIs</th>\n",
       "      <td>Blockchain / cryptocurrency technology is prim...</td>\n",
       "    </tr>\n",
       "    <tr>\n",
       "      <th>BlockchainOrg</th>\n",
       "      <td>How is your organization thinking about or imp...</td>\n",
       "    </tr>\n",
       "    <tr>\n",
       "      <th>...</th>\n",
       "      <td>...</td>\n",
       "    </tr>\n",
       "    <tr>\n",
       "      <th>WorkPlan</th>\n",
       "      <td>How structured or planned is your work?</td>\n",
       "    </tr>\n",
       "    <tr>\n",
       "      <th>WorkRemote</th>\n",
       "      <td>How often do you work remotely?</td>\n",
       "    </tr>\n",
       "    <tr>\n",
       "      <th>WorkWeekHrs</th>\n",
       "      <td>On average, how many hours per week do you work?</td>\n",
       "    </tr>\n",
       "    <tr>\n",
       "      <th>YearsCode</th>\n",
       "      <td>Including any education, how many years have y...</td>\n",
       "    </tr>\n",
       "    <tr>\n",
       "      <th>YearsCodePro</th>\n",
       "      <td>How many years have you coded professionally (...</td>\n",
       "    </tr>\n",
       "  </tbody>\n",
       "</table>\n",
       "<p>85 rows × 1 columns</p>\n",
       "</div>"
      ],
      "text/plain": [
       "                                                    QuestionText\n",
       "Column                                                          \n",
       "Age            What is your age (in years)? If you prefer not...\n",
       "Age1stCode     At what age did you write your first line of c...\n",
       "BetterLife     Do you think people born today will have a bet...\n",
       "BlockchainIs   Blockchain / cryptocurrency technology is prim...\n",
       "BlockchainOrg  How is your organization thinking about or imp...\n",
       "...                                                          ...\n",
       "WorkPlan                 How structured or planned is your work?\n",
       "WorkRemote                       How often do you work remotely?\n",
       "WorkWeekHrs     On average, how many hours per week do you work?\n",
       "YearsCode      Including any education, how many years have y...\n",
       "YearsCodePro   How many years have you coded professionally (...\n",
       "\n",
       "[85 rows x 1 columns]"
      ]
     },
     "execution_count": 3,
     "metadata": {},
     "output_type": "execute_result"
    }
   ],
   "source": [
    "schema=pd.read_csv(\"survey_results_schema.csv\",index_col=\"Column\")\n",
    "schema.sort_index()"
   ]
  },
  {
   "cell_type": "code",
   "execution_count": 4,
   "id": "3f6316fa",
   "metadata": {},
   "outputs": [
    {
     "data": {
      "text/plain": [
       "Index(['MainBranch', 'Hobbyist', 'OpenSourcer', 'OpenSource', 'Employment',\n",
       "       'Country', 'Student', 'EdLevel', 'UndergradMajor', 'EduOther',\n",
       "       'OrgSize', 'DevType', 'YearsCode', 'Age1stCode', 'YearsCodePro',\n",
       "       'CareerSat', 'JobSat', 'MgrIdiot', 'MgrMoney', 'MgrWant', 'JobSeek',\n",
       "       'LastHireDate', 'LastInt', 'FizzBuzz', 'JobFactors', 'ResumeUpdate',\n",
       "       'CurrencySymbol', 'CurrencyDesc', 'CompTotal', 'CompFreq',\n",
       "       'ConvertedComp', 'WorkWeekHrs', 'WorkPlan', 'WorkChallenge',\n",
       "       'WorkRemote', 'WorkLoc', 'ImpSyn', 'CodeRev', 'CodeRevHrs', 'UnitTests',\n",
       "       'PurchaseHow', 'PurchaseWhat', 'LanguageWorkedWith',\n",
       "       'LanguageDesireNextYear', 'DatabaseWorkedWith',\n",
       "       'DatabaseDesireNextYear', 'PlatformWorkedWith',\n",
       "       'PlatformDesireNextYear', 'WebFrameWorkedWith',\n",
       "       'WebFrameDesireNextYear', 'MiscTechWorkedWith',\n",
       "       'MiscTechDesireNextYear', 'DevEnviron', 'OpSys', 'Containers',\n",
       "       'BlockchainOrg', 'BlockchainIs', 'BetterLife', 'ITperson', 'OffOn',\n",
       "       'SocialMedia', 'Extraversion', 'ScreenName', 'SOVisit1st',\n",
       "       'SOVisitFreq', 'SOVisitTo', 'SOFindAnswer', 'SOTimeSaved',\n",
       "       'SOHowMuchTime', 'SOAccount', 'SOPartFreq', 'SOJobs', 'EntTeams',\n",
       "       'SOComm', 'WelcomeChange', 'SONewContent', 'Age', 'Gender', 'Trans',\n",
       "       'Sexuality', 'Ethnicity', 'Dependents', 'SurveyLength', 'SurveyEase'],\n",
       "      dtype='object')"
      ]
     },
     "execution_count": 4,
     "metadata": {},
     "output_type": "execute_result"
    }
   ],
   "source": [
    "survey.columns"
   ]
  },
  {
   "cell_type": "code",
   "execution_count": 5,
   "id": "819a7a1f",
   "metadata": {},
   "outputs": [
    {
     "data": {
      "text/html": [
       "<div>\n",
       "<style scoped>\n",
       "    .dataframe tbody tr th:only-of-type {\n",
       "        vertical-align: middle;\n",
       "    }\n",
       "\n",
       "    .dataframe tbody tr th {\n",
       "        vertical-align: top;\n",
       "    }\n",
       "\n",
       "    .dataframe thead th {\n",
       "        text-align: right;\n",
       "    }\n",
       "</style>\n",
       "<table border=\"1\" class=\"dataframe\">\n",
       "  <thead>\n",
       "    <tr style=\"text-align: right;\">\n",
       "      <th></th>\n",
       "      <th>MainBranch</th>\n",
       "      <th>Hobbyist</th>\n",
       "      <th>OpenSourcer</th>\n",
       "      <th>OpenSource</th>\n",
       "      <th>Employment</th>\n",
       "      <th>Country</th>\n",
       "      <th>Student</th>\n",
       "      <th>EdLevel</th>\n",
       "      <th>UndergradMajor</th>\n",
       "      <th>EduOther</th>\n",
       "      <th>...</th>\n",
       "      <th>WelcomeChange</th>\n",
       "      <th>SONewContent</th>\n",
       "      <th>Age</th>\n",
       "      <th>Gender</th>\n",
       "      <th>Trans</th>\n",
       "      <th>Sexuality</th>\n",
       "      <th>Ethnicity</th>\n",
       "      <th>Dependents</th>\n",
       "      <th>SurveyLength</th>\n",
       "      <th>SurveyEase</th>\n",
       "    </tr>\n",
       "    <tr>\n",
       "      <th>Respondent</th>\n",
       "      <th></th>\n",
       "      <th></th>\n",
       "      <th></th>\n",
       "      <th></th>\n",
       "      <th></th>\n",
       "      <th></th>\n",
       "      <th></th>\n",
       "      <th></th>\n",
       "      <th></th>\n",
       "      <th></th>\n",
       "      <th></th>\n",
       "      <th></th>\n",
       "      <th></th>\n",
       "      <th></th>\n",
       "      <th></th>\n",
       "      <th></th>\n",
       "      <th></th>\n",
       "      <th></th>\n",
       "      <th></th>\n",
       "      <th></th>\n",
       "      <th></th>\n",
       "    </tr>\n",
       "  </thead>\n",
       "  <tbody>\n",
       "    <tr>\n",
       "      <th>1</th>\n",
       "      <td>I am a student who is learning to code</td>\n",
       "      <td>Yes</td>\n",
       "      <td>Never</td>\n",
       "      <td>The quality of OSS and closed source software ...</td>\n",
       "      <td>Not employed, and not looking for work</td>\n",
       "      <td>United Kingdom</td>\n",
       "      <td>No</td>\n",
       "      <td>Primary/elementary school</td>\n",
       "      <td>NaN</td>\n",
       "      <td>Taught yourself a new language, framework, or ...</td>\n",
       "      <td>...</td>\n",
       "      <td>Just as welcome now as I felt last year</td>\n",
       "      <td>Tech articles written by other developers;Indu...</td>\n",
       "      <td>14.0</td>\n",
       "      <td>Man</td>\n",
       "      <td>No</td>\n",
       "      <td>Straight / Heterosexual</td>\n",
       "      <td>NaN</td>\n",
       "      <td>No</td>\n",
       "      <td>Appropriate in length</td>\n",
       "      <td>Neither easy nor difficult</td>\n",
       "    </tr>\n",
       "    <tr>\n",
       "      <th>2</th>\n",
       "      <td>I am a student who is learning to code</td>\n",
       "      <td>No</td>\n",
       "      <td>Less than once per year</td>\n",
       "      <td>The quality of OSS and closed source software ...</td>\n",
       "      <td>Not employed, but looking for work</td>\n",
       "      <td>Bosnia and Herzegovina</td>\n",
       "      <td>Yes, full-time</td>\n",
       "      <td>Secondary school (e.g. American high school, G...</td>\n",
       "      <td>NaN</td>\n",
       "      <td>Taken an online course in programming or softw...</td>\n",
       "      <td>...</td>\n",
       "      <td>Just as welcome now as I felt last year</td>\n",
       "      <td>Tech articles written by other developers;Indu...</td>\n",
       "      <td>19.0</td>\n",
       "      <td>Man</td>\n",
       "      <td>No</td>\n",
       "      <td>Straight / Heterosexual</td>\n",
       "      <td>NaN</td>\n",
       "      <td>No</td>\n",
       "      <td>Appropriate in length</td>\n",
       "      <td>Neither easy nor difficult</td>\n",
       "    </tr>\n",
       "    <tr>\n",
       "      <th>3</th>\n",
       "      <td>I am not primarily a developer, but I write co...</td>\n",
       "      <td>Yes</td>\n",
       "      <td>Never</td>\n",
       "      <td>The quality of OSS and closed source software ...</td>\n",
       "      <td>Employed full-time</td>\n",
       "      <td>Thailand</td>\n",
       "      <td>No</td>\n",
       "      <td>Bachelor’s degree (BA, BS, B.Eng., etc.)</td>\n",
       "      <td>Web development or web design</td>\n",
       "      <td>Taught yourself a new language, framework, or ...</td>\n",
       "      <td>...</td>\n",
       "      <td>Just as welcome now as I felt last year</td>\n",
       "      <td>Tech meetups or events in your area;Courses on...</td>\n",
       "      <td>28.0</td>\n",
       "      <td>Man</td>\n",
       "      <td>No</td>\n",
       "      <td>Straight / Heterosexual</td>\n",
       "      <td>NaN</td>\n",
       "      <td>Yes</td>\n",
       "      <td>Appropriate in length</td>\n",
       "      <td>Neither easy nor difficult</td>\n",
       "    </tr>\n",
       "    <tr>\n",
       "      <th>4</th>\n",
       "      <td>I am a developer by profession</td>\n",
       "      <td>No</td>\n",
       "      <td>Never</td>\n",
       "      <td>The quality of OSS and closed source software ...</td>\n",
       "      <td>Employed full-time</td>\n",
       "      <td>United States</td>\n",
       "      <td>No</td>\n",
       "      <td>Bachelor’s degree (BA, BS, B.Eng., etc.)</td>\n",
       "      <td>Computer science, computer engineering, or sof...</td>\n",
       "      <td>Taken an online course in programming or softw...</td>\n",
       "      <td>...</td>\n",
       "      <td>Just as welcome now as I felt last year</td>\n",
       "      <td>Tech articles written by other developers;Indu...</td>\n",
       "      <td>22.0</td>\n",
       "      <td>Man</td>\n",
       "      <td>No</td>\n",
       "      <td>Straight / Heterosexual</td>\n",
       "      <td>White or of European descent</td>\n",
       "      <td>No</td>\n",
       "      <td>Appropriate in length</td>\n",
       "      <td>Easy</td>\n",
       "    </tr>\n",
       "    <tr>\n",
       "      <th>5</th>\n",
       "      <td>I am a developer by profession</td>\n",
       "      <td>Yes</td>\n",
       "      <td>Once a month or more often</td>\n",
       "      <td>OSS is, on average, of HIGHER quality than pro...</td>\n",
       "      <td>Employed full-time</td>\n",
       "      <td>Ukraine</td>\n",
       "      <td>No</td>\n",
       "      <td>Bachelor’s degree (BA, BS, B.Eng., etc.)</td>\n",
       "      <td>Computer science, computer engineering, or sof...</td>\n",
       "      <td>Taken an online course in programming or softw...</td>\n",
       "      <td>...</td>\n",
       "      <td>Just as welcome now as I felt last year</td>\n",
       "      <td>Tech meetups or events in your area;Courses on...</td>\n",
       "      <td>30.0</td>\n",
       "      <td>Man</td>\n",
       "      <td>No</td>\n",
       "      <td>Straight / Heterosexual</td>\n",
       "      <td>White or of European descent;Multiracial</td>\n",
       "      <td>No</td>\n",
       "      <td>Appropriate in length</td>\n",
       "      <td>Easy</td>\n",
       "    </tr>\n",
       "    <tr>\n",
       "      <th>...</th>\n",
       "      <td>...</td>\n",
       "      <td>...</td>\n",
       "      <td>...</td>\n",
       "      <td>...</td>\n",
       "      <td>...</td>\n",
       "      <td>...</td>\n",
       "      <td>...</td>\n",
       "      <td>...</td>\n",
       "      <td>...</td>\n",
       "      <td>...</td>\n",
       "      <td>...</td>\n",
       "      <td>...</td>\n",
       "      <td>...</td>\n",
       "      <td>...</td>\n",
       "      <td>...</td>\n",
       "      <td>...</td>\n",
       "      <td>...</td>\n",
       "      <td>...</td>\n",
       "      <td>...</td>\n",
       "      <td>...</td>\n",
       "      <td>...</td>\n",
       "    </tr>\n",
       "    <tr>\n",
       "      <th>88377</th>\n",
       "      <td>NaN</td>\n",
       "      <td>Yes</td>\n",
       "      <td>Less than once a month but more than once per ...</td>\n",
       "      <td>The quality of OSS and closed source software ...</td>\n",
       "      <td>Not employed, and not looking for work</td>\n",
       "      <td>Canada</td>\n",
       "      <td>No</td>\n",
       "      <td>Primary/elementary school</td>\n",
       "      <td>NaN</td>\n",
       "      <td>Taught yourself a new language, framework, or ...</td>\n",
       "      <td>...</td>\n",
       "      <td>NaN</td>\n",
       "      <td>Tech articles written by other developers;Tech...</td>\n",
       "      <td>NaN</td>\n",
       "      <td>Man</td>\n",
       "      <td>No</td>\n",
       "      <td>NaN</td>\n",
       "      <td>NaN</td>\n",
       "      <td>No</td>\n",
       "      <td>Appropriate in length</td>\n",
       "      <td>Easy</td>\n",
       "    </tr>\n",
       "    <tr>\n",
       "      <th>88601</th>\n",
       "      <td>NaN</td>\n",
       "      <td>No</td>\n",
       "      <td>Never</td>\n",
       "      <td>The quality of OSS and closed source software ...</td>\n",
       "      <td>NaN</td>\n",
       "      <td>NaN</td>\n",
       "      <td>NaN</td>\n",
       "      <td>NaN</td>\n",
       "      <td>NaN</td>\n",
       "      <td>NaN</td>\n",
       "      <td>...</td>\n",
       "      <td>NaN</td>\n",
       "      <td>NaN</td>\n",
       "      <td>NaN</td>\n",
       "      <td>NaN</td>\n",
       "      <td>NaN</td>\n",
       "      <td>NaN</td>\n",
       "      <td>NaN</td>\n",
       "      <td>NaN</td>\n",
       "      <td>NaN</td>\n",
       "      <td>NaN</td>\n",
       "    </tr>\n",
       "    <tr>\n",
       "      <th>88802</th>\n",
       "      <td>NaN</td>\n",
       "      <td>No</td>\n",
       "      <td>Never</td>\n",
       "      <td>NaN</td>\n",
       "      <td>Employed full-time</td>\n",
       "      <td>NaN</td>\n",
       "      <td>NaN</td>\n",
       "      <td>NaN</td>\n",
       "      <td>NaN</td>\n",
       "      <td>NaN</td>\n",
       "      <td>...</td>\n",
       "      <td>NaN</td>\n",
       "      <td>NaN</td>\n",
       "      <td>NaN</td>\n",
       "      <td>NaN</td>\n",
       "      <td>NaN</td>\n",
       "      <td>NaN</td>\n",
       "      <td>NaN</td>\n",
       "      <td>NaN</td>\n",
       "      <td>NaN</td>\n",
       "      <td>NaN</td>\n",
       "    </tr>\n",
       "    <tr>\n",
       "      <th>88816</th>\n",
       "      <td>NaN</td>\n",
       "      <td>No</td>\n",
       "      <td>Never</td>\n",
       "      <td>OSS is, on average, of HIGHER quality than pro...</td>\n",
       "      <td>Independent contractor, freelancer, or self-em...</td>\n",
       "      <td>NaN</td>\n",
       "      <td>NaN</td>\n",
       "      <td>NaN</td>\n",
       "      <td>NaN</td>\n",
       "      <td>NaN</td>\n",
       "      <td>...</td>\n",
       "      <td>NaN</td>\n",
       "      <td>NaN</td>\n",
       "      <td>NaN</td>\n",
       "      <td>NaN</td>\n",
       "      <td>NaN</td>\n",
       "      <td>NaN</td>\n",
       "      <td>NaN</td>\n",
       "      <td>NaN</td>\n",
       "      <td>NaN</td>\n",
       "      <td>NaN</td>\n",
       "    </tr>\n",
       "    <tr>\n",
       "      <th>88863</th>\n",
       "      <td>NaN</td>\n",
       "      <td>Yes</td>\n",
       "      <td>Less than once per year</td>\n",
       "      <td>OSS is, on average, of HIGHER quality than pro...</td>\n",
       "      <td>Not employed, and not looking for work</td>\n",
       "      <td>Spain</td>\n",
       "      <td>Yes, full-time</td>\n",
       "      <td>Professional degree (JD, MD, etc.)</td>\n",
       "      <td>Computer science, computer engineering, or sof...</td>\n",
       "      <td>Taken an online course in programming or softw...</td>\n",
       "      <td>...</td>\n",
       "      <td>Somewhat less welcome now than last year</td>\n",
       "      <td>Tech articles written by other developers;Indu...</td>\n",
       "      <td>18.0</td>\n",
       "      <td>Man</td>\n",
       "      <td>No</td>\n",
       "      <td>Straight / Heterosexual</td>\n",
       "      <td>Hispanic or Latino/Latina;White or of European...</td>\n",
       "      <td>No</td>\n",
       "      <td>Appropriate in length</td>\n",
       "      <td>Easy</td>\n",
       "    </tr>\n",
       "  </tbody>\n",
       "</table>\n",
       "<p>88883 rows × 84 columns</p>\n",
       "</div>"
      ],
      "text/plain": [
       "                                                   MainBranch Hobbyist  \\\n",
       "Respondent                                                               \n",
       "1                      I am a student who is learning to code      Yes   \n",
       "2                      I am a student who is learning to code       No   \n",
       "3           I am not primarily a developer, but I write co...      Yes   \n",
       "4                              I am a developer by profession       No   \n",
       "5                              I am a developer by profession      Yes   \n",
       "...                                                       ...      ...   \n",
       "88377                                                     NaN      Yes   \n",
       "88601                                                     NaN       No   \n",
       "88802                                                     NaN       No   \n",
       "88816                                                     NaN       No   \n",
       "88863                                                     NaN      Yes   \n",
       "\n",
       "                                                  OpenSourcer  \\\n",
       "Respondent                                                      \n",
       "1                                                       Never   \n",
       "2                                     Less than once per year   \n",
       "3                                                       Never   \n",
       "4                                                       Never   \n",
       "5                                  Once a month or more often   \n",
       "...                                                       ...   \n",
       "88377       Less than once a month but more than once per ...   \n",
       "88601                                                   Never   \n",
       "88802                                                   Never   \n",
       "88816                                                   Never   \n",
       "88863                                 Less than once per year   \n",
       "\n",
       "                                                   OpenSource  \\\n",
       "Respondent                                                      \n",
       "1           The quality of OSS and closed source software ...   \n",
       "2           The quality of OSS and closed source software ...   \n",
       "3           The quality of OSS and closed source software ...   \n",
       "4           The quality of OSS and closed source software ...   \n",
       "5           OSS is, on average, of HIGHER quality than pro...   \n",
       "...                                                       ...   \n",
       "88377       The quality of OSS and closed source software ...   \n",
       "88601       The quality of OSS and closed source software ...   \n",
       "88802                                                     NaN   \n",
       "88816       OSS is, on average, of HIGHER quality than pro...   \n",
       "88863       OSS is, on average, of HIGHER quality than pro...   \n",
       "\n",
       "                                                   Employment  \\\n",
       "Respondent                                                      \n",
       "1                      Not employed, and not looking for work   \n",
       "2                          Not employed, but looking for work   \n",
       "3                                          Employed full-time   \n",
       "4                                          Employed full-time   \n",
       "5                                          Employed full-time   \n",
       "...                                                       ...   \n",
       "88377                  Not employed, and not looking for work   \n",
       "88601                                                     NaN   \n",
       "88802                                      Employed full-time   \n",
       "88816       Independent contractor, freelancer, or self-em...   \n",
       "88863                  Not employed, and not looking for work   \n",
       "\n",
       "                           Country         Student  \\\n",
       "Respondent                                           \n",
       "1                   United Kingdom              No   \n",
       "2           Bosnia and Herzegovina  Yes, full-time   \n",
       "3                         Thailand              No   \n",
       "4                    United States              No   \n",
       "5                          Ukraine              No   \n",
       "...                            ...             ...   \n",
       "88377                       Canada              No   \n",
       "88601                          NaN             NaN   \n",
       "88802                          NaN             NaN   \n",
       "88816                          NaN             NaN   \n",
       "88863                        Spain  Yes, full-time   \n",
       "\n",
       "                                                      EdLevel  \\\n",
       "Respondent                                                      \n",
       "1                                   Primary/elementary school   \n",
       "2           Secondary school (e.g. American high school, G...   \n",
       "3                    Bachelor’s degree (BA, BS, B.Eng., etc.)   \n",
       "4                    Bachelor’s degree (BA, BS, B.Eng., etc.)   \n",
       "5                    Bachelor’s degree (BA, BS, B.Eng., etc.)   \n",
       "...                                                       ...   \n",
       "88377                               Primary/elementary school   \n",
       "88601                                                     NaN   \n",
       "88802                                                     NaN   \n",
       "88816                                                     NaN   \n",
       "88863                      Professional degree (JD, MD, etc.)   \n",
       "\n",
       "                                               UndergradMajor  \\\n",
       "Respondent                                                      \n",
       "1                                                         NaN   \n",
       "2                                                         NaN   \n",
       "3                               Web development or web design   \n",
       "4           Computer science, computer engineering, or sof...   \n",
       "5           Computer science, computer engineering, or sof...   \n",
       "...                                                       ...   \n",
       "88377                                                     NaN   \n",
       "88601                                                     NaN   \n",
       "88802                                                     NaN   \n",
       "88816                                                     NaN   \n",
       "88863       Computer science, computer engineering, or sof...   \n",
       "\n",
       "                                                     EduOther  ...  \\\n",
       "Respondent                                                     ...   \n",
       "1           Taught yourself a new language, framework, or ...  ...   \n",
       "2           Taken an online course in programming or softw...  ...   \n",
       "3           Taught yourself a new language, framework, or ...  ...   \n",
       "4           Taken an online course in programming or softw...  ...   \n",
       "5           Taken an online course in programming or softw...  ...   \n",
       "...                                                       ...  ...   \n",
       "88377       Taught yourself a new language, framework, or ...  ...   \n",
       "88601                                                     NaN  ...   \n",
       "88802                                                     NaN  ...   \n",
       "88816                                                     NaN  ...   \n",
       "88863       Taken an online course in programming or softw...  ...   \n",
       "\n",
       "                                       WelcomeChange  \\\n",
       "Respondent                                             \n",
       "1            Just as welcome now as I felt last year   \n",
       "2            Just as welcome now as I felt last year   \n",
       "3            Just as welcome now as I felt last year   \n",
       "4            Just as welcome now as I felt last year   \n",
       "5            Just as welcome now as I felt last year   \n",
       "...                                              ...   \n",
       "88377                                            NaN   \n",
       "88601                                            NaN   \n",
       "88802                                            NaN   \n",
       "88816                                            NaN   \n",
       "88863       Somewhat less welcome now than last year   \n",
       "\n",
       "                                                 SONewContent   Age Gender  \\\n",
       "Respondent                                                                   \n",
       "1           Tech articles written by other developers;Indu...  14.0    Man   \n",
       "2           Tech articles written by other developers;Indu...  19.0    Man   \n",
       "3           Tech meetups or events in your area;Courses on...  28.0    Man   \n",
       "4           Tech articles written by other developers;Indu...  22.0    Man   \n",
       "5           Tech meetups or events in your area;Courses on...  30.0    Man   \n",
       "...                                                       ...   ...    ...   \n",
       "88377       Tech articles written by other developers;Tech...   NaN    Man   \n",
       "88601                                                     NaN   NaN    NaN   \n",
       "88802                                                     NaN   NaN    NaN   \n",
       "88816                                                     NaN   NaN    NaN   \n",
       "88863       Tech articles written by other developers;Indu...  18.0    Man   \n",
       "\n",
       "           Trans                Sexuality  \\\n",
       "Respondent                                  \n",
       "1             No  Straight / Heterosexual   \n",
       "2             No  Straight / Heterosexual   \n",
       "3             No  Straight / Heterosexual   \n",
       "4             No  Straight / Heterosexual   \n",
       "5             No  Straight / Heterosexual   \n",
       "...          ...                      ...   \n",
       "88377         No                      NaN   \n",
       "88601        NaN                      NaN   \n",
       "88802        NaN                      NaN   \n",
       "88816        NaN                      NaN   \n",
       "88863         No  Straight / Heterosexual   \n",
       "\n",
       "                                                    Ethnicity Dependents  \\\n",
       "Respondent                                                                 \n",
       "1                                                         NaN         No   \n",
       "2                                                         NaN         No   \n",
       "3                                                         NaN        Yes   \n",
       "4                                White or of European descent         No   \n",
       "5                    White or of European descent;Multiracial         No   \n",
       "...                                                       ...        ...   \n",
       "88377                                                     NaN         No   \n",
       "88601                                                     NaN        NaN   \n",
       "88802                                                     NaN        NaN   \n",
       "88816                                                     NaN        NaN   \n",
       "88863       Hispanic or Latino/Latina;White or of European...         No   \n",
       "\n",
       "                     SurveyLength                  SurveyEase  \n",
       "Respondent                                                     \n",
       "1           Appropriate in length  Neither easy nor difficult  \n",
       "2           Appropriate in length  Neither easy nor difficult  \n",
       "3           Appropriate in length  Neither easy nor difficult  \n",
       "4           Appropriate in length                        Easy  \n",
       "5           Appropriate in length                        Easy  \n",
       "...                           ...                         ...  \n",
       "88377       Appropriate in length                        Easy  \n",
       "88601                         NaN                         NaN  \n",
       "88802                         NaN                         NaN  \n",
       "88816                         NaN                         NaN  \n",
       "88863       Appropriate in length                        Easy  \n",
       "\n",
       "[88883 rows x 84 columns]"
      ]
     },
     "execution_count": 5,
     "metadata": {},
     "output_type": "execute_result"
    }
   ],
   "source": [
    "data=survey.copy()\n",
    "data"
   ]
  },
  {
   "cell_type": "code",
   "execution_count": 6,
   "id": "6527d4ec",
   "metadata": {},
   "outputs": [
    {
     "data": {
      "text/plain": [
       "'Do you identify as transgender?'"
      ]
     },
     "execution_count": 6,
     "metadata": {},
     "output_type": "execute_result"
    }
   ],
   "source": [
    "schema.loc[\"Trans\",\"QuestionText\"]"
   ]
  },
  {
   "cell_type": "code",
   "execution_count": 7,
   "id": "9ca4e6a5",
   "metadata": {},
   "outputs": [
    {
     "data": {
      "text/plain": [
       "Respondent\n",
       "1         No\n",
       "2         No\n",
       "3         No\n",
       "4         No\n",
       "5         No\n",
       "        ... \n",
       "88377     No\n",
       "88601    NaN\n",
       "88802    NaN\n",
       "88816    NaN\n",
       "88863     No\n",
       "Name: Trans, Length: 88883, dtype: object"
      ]
     },
     "execution_count": 7,
     "metadata": {},
     "output_type": "execute_result"
    }
   ],
   "source": [
    "survey[\"Trans\"]"
   ]
  },
  {
   "cell_type": "code",
   "execution_count": null,
   "id": "d0a513e3",
   "metadata": {},
   "outputs": [],
   "source": []
  },
  {
   "cell_type": "markdown",
   "id": "ddd50352",
   "metadata": {},
   "source": [
    "### Q1-Change column names of any 5 features\n"
   ]
  },
  {
   "cell_type": "code",
   "execution_count": 94,
   "id": "9887f2fb",
   "metadata": {},
   "outputs": [],
   "source": [
    "col_names={\"EdLevel\":\"Education\",\"Country\":\"Place\",\"ConvertedComp\":\"Salary\",\"Age1stCode\":\"1stAgeCode\",\"WorkLoc\":\"WorkingLocation\"}"
   ]
  },
  {
   "cell_type": "code",
   "execution_count": 9,
   "id": "931a47ae",
   "metadata": {},
   "outputs": [],
   "source": [
    "que_1=survey.rename(columns=col_names)"
   ]
  },
  {
   "cell_type": "code",
   "execution_count": 10,
   "id": "c233eabb",
   "metadata": {},
   "outputs": [
    {
     "data": {
      "text/plain": [
       "Index(['MainBranch', 'Hobbyist', 'OpenSourcer', 'OpenSource', 'Employment',\n",
       "       'Place', 'Student', 'Education', 'UndergradMajor', 'EduOther',\n",
       "       'OrgSize', 'DevType', 'YearsCode', '1stAgeCode', 'YearsCodePro',\n",
       "       'CareerSat', 'JobSat', 'MgrIdiot', 'MgrMoney', 'MgrWant', 'JobSeek',\n",
       "       'LastHireDate', 'LastInt', 'FizzBuzz', 'JobFactors', 'ResumeUpdate',\n",
       "       'CurrencySymbol', 'CurrencyDesc', 'CompTotal', 'CompFreq', 'Salary',\n",
       "       'WorkWeekHrs', 'WorkPlan', 'WorkChallenge', 'WorkRemote',\n",
       "       'WorkingLocation', 'ImpSyn', 'CodeRev', 'CodeRevHrs', 'UnitTests',\n",
       "       'PurchaseHow', 'PurchaseWhat', 'LanguageWorkedWith',\n",
       "       'LanguageDesireNextYear', 'DatabaseWorkedWith',\n",
       "       'DatabaseDesireNextYear', 'PlatformWorkedWith',\n",
       "       'PlatformDesireNextYear', 'WebFrameWorkedWith',\n",
       "       'WebFrameDesireNextYear', 'MiscTechWorkedWith',\n",
       "       'MiscTechDesireNextYear', 'DevEnviron', 'OpSys', 'Containers',\n",
       "       'BlockchainOrg', 'BlockchainIs', 'BetterLife', 'ITperson', 'OffOn',\n",
       "       'SocialMedia', 'Extraversion', 'ScreenName', 'SOVisit1st',\n",
       "       'SOVisitFreq', 'SOVisitTo', 'SOFindAnswer', 'SOTimeSaved',\n",
       "       'SOHowMuchTime', 'SOAccount', 'SOPartFreq', 'SOJobs', 'EntTeams',\n",
       "       'SOComm', 'WelcomeChange', 'SONewContent', 'Age', 'Gender', 'Trans',\n",
       "       'Sexuality', 'Ethnicity', 'Dependents', 'SurveyLength', 'SurveyEase'],\n",
       "      dtype='object')"
      ]
     },
     "execution_count": 10,
     "metadata": {},
     "output_type": "execute_result"
    }
   ],
   "source": [
    "que_1.columns"
   ]
  },
  {
   "cell_type": "markdown",
   "id": "485f09ca",
   "metadata": {},
   "source": [
    "###### or"
   ]
  },
  {
   "cell_type": "code",
   "execution_count": 95,
   "id": "7fedebf6",
   "metadata": {},
   "outputs": [
    {
     "data": {
      "text/html": [
       "<div>\n",
       "<style scoped>\n",
       "    .dataframe tbody tr th:only-of-type {\n",
       "        vertical-align: middle;\n",
       "    }\n",
       "\n",
       "    .dataframe tbody tr th {\n",
       "        vertical-align: top;\n",
       "    }\n",
       "\n",
       "    .dataframe thead th {\n",
       "        text-align: right;\n",
       "    }\n",
       "</style>\n",
       "<table border=\"1\" class=\"dataframe\">\n",
       "  <thead>\n",
       "    <tr style=\"text-align: right;\">\n",
       "      <th></th>\n",
       "      <th>MainBranch</th>\n",
       "      <th>Hobbyist</th>\n",
       "      <th>OpenSourcer</th>\n",
       "      <th>OpenSource</th>\n",
       "      <th>Employment</th>\n",
       "      <th>Place</th>\n",
       "      <th>Student</th>\n",
       "      <th>Education</th>\n",
       "      <th>UndergradMajor</th>\n",
       "      <th>EduOther</th>\n",
       "      <th>...</th>\n",
       "      <th>WelcomeChange</th>\n",
       "      <th>SONewContent</th>\n",
       "      <th>Age</th>\n",
       "      <th>Gender</th>\n",
       "      <th>Trans</th>\n",
       "      <th>Sexuality</th>\n",
       "      <th>Ethnicity</th>\n",
       "      <th>Dependents</th>\n",
       "      <th>SurveyLength</th>\n",
       "      <th>SurveyEase</th>\n",
       "    </tr>\n",
       "    <tr>\n",
       "      <th>Respondent</th>\n",
       "      <th></th>\n",
       "      <th></th>\n",
       "      <th></th>\n",
       "      <th></th>\n",
       "      <th></th>\n",
       "      <th></th>\n",
       "      <th></th>\n",
       "      <th></th>\n",
       "      <th></th>\n",
       "      <th></th>\n",
       "      <th></th>\n",
       "      <th></th>\n",
       "      <th></th>\n",
       "      <th></th>\n",
       "      <th></th>\n",
       "      <th></th>\n",
       "      <th></th>\n",
       "      <th></th>\n",
       "      <th></th>\n",
       "      <th></th>\n",
       "      <th></th>\n",
       "    </tr>\n",
       "  </thead>\n",
       "  <tbody>\n",
       "    <tr>\n",
       "      <th>1</th>\n",
       "      <td>I am a student who is learning to code</td>\n",
       "      <td>Yes</td>\n",
       "      <td>Never</td>\n",
       "      <td>The quality of OSS and closed source software ...</td>\n",
       "      <td>Not employed, and not looking for work</td>\n",
       "      <td>United Kingdom</td>\n",
       "      <td>No</td>\n",
       "      <td>Primary/elementary school</td>\n",
       "      <td>NaN</td>\n",
       "      <td>Taught yourself a new language, framework, or ...</td>\n",
       "      <td>...</td>\n",
       "      <td>Just as welcome now as I felt last year</td>\n",
       "      <td>Tech articles written by other developers;Indu...</td>\n",
       "      <td>14.0</td>\n",
       "      <td>Man</td>\n",
       "      <td>No</td>\n",
       "      <td>Straight / Heterosexual</td>\n",
       "      <td>NaN</td>\n",
       "      <td>No</td>\n",
       "      <td>Appropriate in length</td>\n",
       "      <td>Neither easy nor difficult</td>\n",
       "    </tr>\n",
       "    <tr>\n",
       "      <th>2</th>\n",
       "      <td>I am a student who is learning to code</td>\n",
       "      <td>No</td>\n",
       "      <td>Less than once per year</td>\n",
       "      <td>The quality of OSS and closed source software ...</td>\n",
       "      <td>Not employed, but looking for work</td>\n",
       "      <td>Bosnia and Herzegovina</td>\n",
       "      <td>Yes, full-time</td>\n",
       "      <td>Secondary school (e.g. American high school, G...</td>\n",
       "      <td>NaN</td>\n",
       "      <td>Taken an online course in programming or softw...</td>\n",
       "      <td>...</td>\n",
       "      <td>Just as welcome now as I felt last year</td>\n",
       "      <td>Tech articles written by other developers;Indu...</td>\n",
       "      <td>19.0</td>\n",
       "      <td>Man</td>\n",
       "      <td>No</td>\n",
       "      <td>Straight / Heterosexual</td>\n",
       "      <td>NaN</td>\n",
       "      <td>No</td>\n",
       "      <td>Appropriate in length</td>\n",
       "      <td>Neither easy nor difficult</td>\n",
       "    </tr>\n",
       "    <tr>\n",
       "      <th>3</th>\n",
       "      <td>I am not primarily a developer, but I write co...</td>\n",
       "      <td>Yes</td>\n",
       "      <td>Never</td>\n",
       "      <td>The quality of OSS and closed source software ...</td>\n",
       "      <td>Employed full-time</td>\n",
       "      <td>Thailand</td>\n",
       "      <td>No</td>\n",
       "      <td>Bachelor’s degree (BA, BS, B.Eng., etc.)</td>\n",
       "      <td>Web development or web design</td>\n",
       "      <td>Taught yourself a new language, framework, or ...</td>\n",
       "      <td>...</td>\n",
       "      <td>Just as welcome now as I felt last year</td>\n",
       "      <td>Tech meetups or events in your area;Courses on...</td>\n",
       "      <td>28.0</td>\n",
       "      <td>Man</td>\n",
       "      <td>No</td>\n",
       "      <td>Straight / Heterosexual</td>\n",
       "      <td>NaN</td>\n",
       "      <td>Yes</td>\n",
       "      <td>Appropriate in length</td>\n",
       "      <td>Neither easy nor difficult</td>\n",
       "    </tr>\n",
       "    <tr>\n",
       "      <th>4</th>\n",
       "      <td>I am a developer by profession</td>\n",
       "      <td>No</td>\n",
       "      <td>Never</td>\n",
       "      <td>The quality of OSS and closed source software ...</td>\n",
       "      <td>Employed full-time</td>\n",
       "      <td>United States</td>\n",
       "      <td>No</td>\n",
       "      <td>Bachelor’s degree (BA, BS, B.Eng., etc.)</td>\n",
       "      <td>Computer science, computer engineering, or sof...</td>\n",
       "      <td>Taken an online course in programming or softw...</td>\n",
       "      <td>...</td>\n",
       "      <td>Just as welcome now as I felt last year</td>\n",
       "      <td>Tech articles written by other developers;Indu...</td>\n",
       "      <td>22.0</td>\n",
       "      <td>Man</td>\n",
       "      <td>No</td>\n",
       "      <td>Straight / Heterosexual</td>\n",
       "      <td>White or of European descent</td>\n",
       "      <td>No</td>\n",
       "      <td>Appropriate in length</td>\n",
       "      <td>Easy</td>\n",
       "    </tr>\n",
       "    <tr>\n",
       "      <th>5</th>\n",
       "      <td>I am a developer by profession</td>\n",
       "      <td>Yes</td>\n",
       "      <td>Once a month or more often</td>\n",
       "      <td>OSS is, on average, of HIGHER quality than pro...</td>\n",
       "      <td>Employed full-time</td>\n",
       "      <td>Ukraine</td>\n",
       "      <td>No</td>\n",
       "      <td>Bachelor’s degree (BA, BS, B.Eng., etc.)</td>\n",
       "      <td>Computer science, computer engineering, or sof...</td>\n",
       "      <td>Taken an online course in programming or softw...</td>\n",
       "      <td>...</td>\n",
       "      <td>Just as welcome now as I felt last year</td>\n",
       "      <td>Tech meetups or events in your area;Courses on...</td>\n",
       "      <td>30.0</td>\n",
       "      <td>Man</td>\n",
       "      <td>No</td>\n",
       "      <td>Straight / Heterosexual</td>\n",
       "      <td>White or of European descent;Multiracial</td>\n",
       "      <td>No</td>\n",
       "      <td>Appropriate in length</td>\n",
       "      <td>Easy</td>\n",
       "    </tr>\n",
       "    <tr>\n",
       "      <th>...</th>\n",
       "      <td>...</td>\n",
       "      <td>...</td>\n",
       "      <td>...</td>\n",
       "      <td>...</td>\n",
       "      <td>...</td>\n",
       "      <td>...</td>\n",
       "      <td>...</td>\n",
       "      <td>...</td>\n",
       "      <td>...</td>\n",
       "      <td>...</td>\n",
       "      <td>...</td>\n",
       "      <td>...</td>\n",
       "      <td>...</td>\n",
       "      <td>...</td>\n",
       "      <td>...</td>\n",
       "      <td>...</td>\n",
       "      <td>...</td>\n",
       "      <td>...</td>\n",
       "      <td>...</td>\n",
       "      <td>...</td>\n",
       "      <td>...</td>\n",
       "    </tr>\n",
       "    <tr>\n",
       "      <th>88377</th>\n",
       "      <td>NaN</td>\n",
       "      <td>Yes</td>\n",
       "      <td>Less than once a month but more than once per ...</td>\n",
       "      <td>The quality of OSS and closed source software ...</td>\n",
       "      <td>Not employed, and not looking for work</td>\n",
       "      <td>Canada</td>\n",
       "      <td>No</td>\n",
       "      <td>Primary/elementary school</td>\n",
       "      <td>NaN</td>\n",
       "      <td>Taught yourself a new language, framework, or ...</td>\n",
       "      <td>...</td>\n",
       "      <td>NaN</td>\n",
       "      <td>Tech articles written by other developers;Tech...</td>\n",
       "      <td>NaN</td>\n",
       "      <td>Man</td>\n",
       "      <td>No</td>\n",
       "      <td>NaN</td>\n",
       "      <td>NaN</td>\n",
       "      <td>No</td>\n",
       "      <td>Appropriate in length</td>\n",
       "      <td>Easy</td>\n",
       "    </tr>\n",
       "    <tr>\n",
       "      <th>88601</th>\n",
       "      <td>NaN</td>\n",
       "      <td>No</td>\n",
       "      <td>Never</td>\n",
       "      <td>The quality of OSS and closed source software ...</td>\n",
       "      <td>NaN</td>\n",
       "      <td>NaN</td>\n",
       "      <td>NaN</td>\n",
       "      <td>NaN</td>\n",
       "      <td>NaN</td>\n",
       "      <td>NaN</td>\n",
       "      <td>...</td>\n",
       "      <td>NaN</td>\n",
       "      <td>NaN</td>\n",
       "      <td>NaN</td>\n",
       "      <td>NaN</td>\n",
       "      <td>NaN</td>\n",
       "      <td>NaN</td>\n",
       "      <td>NaN</td>\n",
       "      <td>NaN</td>\n",
       "      <td>NaN</td>\n",
       "      <td>NaN</td>\n",
       "    </tr>\n",
       "    <tr>\n",
       "      <th>88802</th>\n",
       "      <td>NaN</td>\n",
       "      <td>No</td>\n",
       "      <td>Never</td>\n",
       "      <td>NaN</td>\n",
       "      <td>Employed full-time</td>\n",
       "      <td>NaN</td>\n",
       "      <td>NaN</td>\n",
       "      <td>NaN</td>\n",
       "      <td>NaN</td>\n",
       "      <td>NaN</td>\n",
       "      <td>...</td>\n",
       "      <td>NaN</td>\n",
       "      <td>NaN</td>\n",
       "      <td>NaN</td>\n",
       "      <td>NaN</td>\n",
       "      <td>NaN</td>\n",
       "      <td>NaN</td>\n",
       "      <td>NaN</td>\n",
       "      <td>NaN</td>\n",
       "      <td>NaN</td>\n",
       "      <td>NaN</td>\n",
       "    </tr>\n",
       "    <tr>\n",
       "      <th>88816</th>\n",
       "      <td>NaN</td>\n",
       "      <td>No</td>\n",
       "      <td>Never</td>\n",
       "      <td>OSS is, on average, of HIGHER quality than pro...</td>\n",
       "      <td>Independent contractor, freelancer, or self-em...</td>\n",
       "      <td>NaN</td>\n",
       "      <td>NaN</td>\n",
       "      <td>NaN</td>\n",
       "      <td>NaN</td>\n",
       "      <td>NaN</td>\n",
       "      <td>...</td>\n",
       "      <td>NaN</td>\n",
       "      <td>NaN</td>\n",
       "      <td>NaN</td>\n",
       "      <td>NaN</td>\n",
       "      <td>NaN</td>\n",
       "      <td>NaN</td>\n",
       "      <td>NaN</td>\n",
       "      <td>NaN</td>\n",
       "      <td>NaN</td>\n",
       "      <td>NaN</td>\n",
       "    </tr>\n",
       "    <tr>\n",
       "      <th>88863</th>\n",
       "      <td>NaN</td>\n",
       "      <td>Yes</td>\n",
       "      <td>Less than once per year</td>\n",
       "      <td>OSS is, on average, of HIGHER quality than pro...</td>\n",
       "      <td>Not employed, and not looking for work</td>\n",
       "      <td>Spain</td>\n",
       "      <td>Yes, full-time</td>\n",
       "      <td>Professional degree (JD, MD, etc.)</td>\n",
       "      <td>Computer science, computer engineering, or sof...</td>\n",
       "      <td>Taken an online course in programming or softw...</td>\n",
       "      <td>...</td>\n",
       "      <td>Somewhat less welcome now than last year</td>\n",
       "      <td>Tech articles written by other developers;Indu...</td>\n",
       "      <td>18.0</td>\n",
       "      <td>Man</td>\n",
       "      <td>No</td>\n",
       "      <td>Straight / Heterosexual</td>\n",
       "      <td>Hispanic or Latino/Latina;White or of European...</td>\n",
       "      <td>No</td>\n",
       "      <td>Appropriate in length</td>\n",
       "      <td>Easy</td>\n",
       "    </tr>\n",
       "  </tbody>\n",
       "</table>\n",
       "<p>88883 rows × 84 columns</p>\n",
       "</div>"
      ],
      "text/plain": [
       "                                                   MainBranch Hobbyist  \\\n",
       "Respondent                                                               \n",
       "1                      I am a student who is learning to code      Yes   \n",
       "2                      I am a student who is learning to code       No   \n",
       "3           I am not primarily a developer, but I write co...      Yes   \n",
       "4                              I am a developer by profession       No   \n",
       "5                              I am a developer by profession      Yes   \n",
       "...                                                       ...      ...   \n",
       "88377                                                     NaN      Yes   \n",
       "88601                                                     NaN       No   \n",
       "88802                                                     NaN       No   \n",
       "88816                                                     NaN       No   \n",
       "88863                                                     NaN      Yes   \n",
       "\n",
       "                                                  OpenSourcer  \\\n",
       "Respondent                                                      \n",
       "1                                                       Never   \n",
       "2                                     Less than once per year   \n",
       "3                                                       Never   \n",
       "4                                                       Never   \n",
       "5                                  Once a month or more often   \n",
       "...                                                       ...   \n",
       "88377       Less than once a month but more than once per ...   \n",
       "88601                                                   Never   \n",
       "88802                                                   Never   \n",
       "88816                                                   Never   \n",
       "88863                                 Less than once per year   \n",
       "\n",
       "                                                   OpenSource  \\\n",
       "Respondent                                                      \n",
       "1           The quality of OSS and closed source software ...   \n",
       "2           The quality of OSS and closed source software ...   \n",
       "3           The quality of OSS and closed source software ...   \n",
       "4           The quality of OSS and closed source software ...   \n",
       "5           OSS is, on average, of HIGHER quality than pro...   \n",
       "...                                                       ...   \n",
       "88377       The quality of OSS and closed source software ...   \n",
       "88601       The quality of OSS and closed source software ...   \n",
       "88802                                                     NaN   \n",
       "88816       OSS is, on average, of HIGHER quality than pro...   \n",
       "88863       OSS is, on average, of HIGHER quality than pro...   \n",
       "\n",
       "                                                   Employment  \\\n",
       "Respondent                                                      \n",
       "1                      Not employed, and not looking for work   \n",
       "2                          Not employed, but looking for work   \n",
       "3                                          Employed full-time   \n",
       "4                                          Employed full-time   \n",
       "5                                          Employed full-time   \n",
       "...                                                       ...   \n",
       "88377                  Not employed, and not looking for work   \n",
       "88601                                                     NaN   \n",
       "88802                                      Employed full-time   \n",
       "88816       Independent contractor, freelancer, or self-em...   \n",
       "88863                  Not employed, and not looking for work   \n",
       "\n",
       "                             Place         Student  \\\n",
       "Respondent                                           \n",
       "1                   United Kingdom              No   \n",
       "2           Bosnia and Herzegovina  Yes, full-time   \n",
       "3                         Thailand              No   \n",
       "4                    United States              No   \n",
       "5                          Ukraine              No   \n",
       "...                            ...             ...   \n",
       "88377                       Canada              No   \n",
       "88601                          NaN             NaN   \n",
       "88802                          NaN             NaN   \n",
       "88816                          NaN             NaN   \n",
       "88863                        Spain  Yes, full-time   \n",
       "\n",
       "                                                    Education  \\\n",
       "Respondent                                                      \n",
       "1                                   Primary/elementary school   \n",
       "2           Secondary school (e.g. American high school, G...   \n",
       "3                    Bachelor’s degree (BA, BS, B.Eng., etc.)   \n",
       "4                    Bachelor’s degree (BA, BS, B.Eng., etc.)   \n",
       "5                    Bachelor’s degree (BA, BS, B.Eng., etc.)   \n",
       "...                                                       ...   \n",
       "88377                               Primary/elementary school   \n",
       "88601                                                     NaN   \n",
       "88802                                                     NaN   \n",
       "88816                                                     NaN   \n",
       "88863                      Professional degree (JD, MD, etc.)   \n",
       "\n",
       "                                               UndergradMajor  \\\n",
       "Respondent                                                      \n",
       "1                                                         NaN   \n",
       "2                                                         NaN   \n",
       "3                               Web development or web design   \n",
       "4           Computer science, computer engineering, or sof...   \n",
       "5           Computer science, computer engineering, or sof...   \n",
       "...                                                       ...   \n",
       "88377                                                     NaN   \n",
       "88601                                                     NaN   \n",
       "88802                                                     NaN   \n",
       "88816                                                     NaN   \n",
       "88863       Computer science, computer engineering, or sof...   \n",
       "\n",
       "                                                     EduOther  ...  \\\n",
       "Respondent                                                     ...   \n",
       "1           Taught yourself a new language, framework, or ...  ...   \n",
       "2           Taken an online course in programming or softw...  ...   \n",
       "3           Taught yourself a new language, framework, or ...  ...   \n",
       "4           Taken an online course in programming or softw...  ...   \n",
       "5           Taken an online course in programming or softw...  ...   \n",
       "...                                                       ...  ...   \n",
       "88377       Taught yourself a new language, framework, or ...  ...   \n",
       "88601                                                     NaN  ...   \n",
       "88802                                                     NaN  ...   \n",
       "88816                                                     NaN  ...   \n",
       "88863       Taken an online course in programming or softw...  ...   \n",
       "\n",
       "                                       WelcomeChange  \\\n",
       "Respondent                                             \n",
       "1            Just as welcome now as I felt last year   \n",
       "2            Just as welcome now as I felt last year   \n",
       "3            Just as welcome now as I felt last year   \n",
       "4            Just as welcome now as I felt last year   \n",
       "5            Just as welcome now as I felt last year   \n",
       "...                                              ...   \n",
       "88377                                            NaN   \n",
       "88601                                            NaN   \n",
       "88802                                            NaN   \n",
       "88816                                            NaN   \n",
       "88863       Somewhat less welcome now than last year   \n",
       "\n",
       "                                                 SONewContent   Age Gender  \\\n",
       "Respondent                                                                   \n",
       "1           Tech articles written by other developers;Indu...  14.0    Man   \n",
       "2           Tech articles written by other developers;Indu...  19.0    Man   \n",
       "3           Tech meetups or events in your area;Courses on...  28.0    Man   \n",
       "4           Tech articles written by other developers;Indu...  22.0    Man   \n",
       "5           Tech meetups or events in your area;Courses on...  30.0    Man   \n",
       "...                                                       ...   ...    ...   \n",
       "88377       Tech articles written by other developers;Tech...   NaN    Man   \n",
       "88601                                                     NaN   NaN    NaN   \n",
       "88802                                                     NaN   NaN    NaN   \n",
       "88816                                                     NaN   NaN    NaN   \n",
       "88863       Tech articles written by other developers;Indu...  18.0    Man   \n",
       "\n",
       "           Trans                Sexuality  \\\n",
       "Respondent                                  \n",
       "1             No  Straight / Heterosexual   \n",
       "2             No  Straight / Heterosexual   \n",
       "3             No  Straight / Heterosexual   \n",
       "4             No  Straight / Heterosexual   \n",
       "5             No  Straight / Heterosexual   \n",
       "...          ...                      ...   \n",
       "88377         No                      NaN   \n",
       "88601        NaN                      NaN   \n",
       "88802        NaN                      NaN   \n",
       "88816        NaN                      NaN   \n",
       "88863         No  Straight / Heterosexual   \n",
       "\n",
       "                                                    Ethnicity Dependents  \\\n",
       "Respondent                                                                 \n",
       "1                                                         NaN         No   \n",
       "2                                                         NaN         No   \n",
       "3                                                         NaN        Yes   \n",
       "4                                White or of European descent         No   \n",
       "5                    White or of European descent;Multiracial         No   \n",
       "...                                                       ...        ...   \n",
       "88377                                                     NaN         No   \n",
       "88601                                                     NaN        NaN   \n",
       "88802                                                     NaN        NaN   \n",
       "88816                                                     NaN        NaN   \n",
       "88863       Hispanic or Latino/Latina;White or of European...         No   \n",
       "\n",
       "                     SurveyLength                  SurveyEase  \n",
       "Respondent                                                     \n",
       "1           Appropriate in length  Neither easy nor difficult  \n",
       "2           Appropriate in length  Neither easy nor difficult  \n",
       "3           Appropriate in length  Neither easy nor difficult  \n",
       "4           Appropriate in length                        Easy  \n",
       "5           Appropriate in length                        Easy  \n",
       "...                           ...                         ...  \n",
       "88377       Appropriate in length                        Easy  \n",
       "88601                         NaN                         NaN  \n",
       "88802                         NaN                         NaN  \n",
       "88816                         NaN                         NaN  \n",
       "88863       Appropriate in length                        Easy  \n",
       "\n",
       "[88883 rows x 84 columns]"
      ]
     },
     "execution_count": 95,
     "metadata": {},
     "output_type": "execute_result"
    }
   ],
   "source": [
    "data.rename(columns=col_names,inplace=True)\n",
    "data"
   ]
  },
  {
   "cell_type": "code",
   "execution_count": 12,
   "id": "a0a9af61",
   "metadata": {},
   "outputs": [
    {
     "data": {
      "text/plain": [
       "Index(['MainBranch', 'Hobbyist', 'OpenSourcer', 'OpenSource', 'Employment',\n",
       "       'Place', 'Student', 'Education', 'UndergradMajor', 'EduOther',\n",
       "       'OrgSize', 'DevType', 'YearsCode', '1stAgeCode', 'YearsCodePro',\n",
       "       'CareerSat', 'JobSat', 'MgrIdiot', 'MgrMoney', 'MgrWant', 'JobSeek',\n",
       "       'LastHireDate', 'LastInt', 'FizzBuzz', 'JobFactors', 'ResumeUpdate',\n",
       "       'CurrencySymbol', 'CurrencyDesc', 'CompTotal', 'CompFreq', 'Salary',\n",
       "       'WorkWeekHrs', 'WorkPlan', 'WorkChallenge', 'WorkRemote',\n",
       "       'WorkingLocation', 'ImpSyn', 'CodeRev', 'CodeRevHrs', 'UnitTests',\n",
       "       'PurchaseHow', 'PurchaseWhat', 'LanguageWorkedWith',\n",
       "       'LanguageDesireNextYear', 'DatabaseWorkedWith',\n",
       "       'DatabaseDesireNextYear', 'PlatformWorkedWith',\n",
       "       'PlatformDesireNextYear', 'WebFrameWorkedWith',\n",
       "       'WebFrameDesireNextYear', 'MiscTechWorkedWith',\n",
       "       'MiscTechDesireNextYear', 'DevEnviron', 'OpSys', 'Containers',\n",
       "       'BlockchainOrg', 'BlockchainIs', 'BetterLife', 'ITperson', 'OffOn',\n",
       "       'SocialMedia', 'Extraversion', 'ScreenName', 'SOVisit1st',\n",
       "       'SOVisitFreq', 'SOVisitTo', 'SOFindAnswer', 'SOTimeSaved',\n",
       "       'SOHowMuchTime', 'SOAccount', 'SOPartFreq', 'SOJobs', 'EntTeams',\n",
       "       'SOComm', 'WelcomeChange', 'SONewContent', 'Age', 'Gender', 'Trans',\n",
       "       'Sexuality', 'Ethnicity', 'Dependents', 'SurveyLength', 'SurveyEase'],\n",
       "      dtype='object')"
      ]
     },
     "execution_count": 12,
     "metadata": {},
     "output_type": "execute_result"
    }
   ],
   "source": [
    "data.columns"
   ]
  },
  {
   "cell_type": "markdown",
   "id": "ad6c4dd5",
   "metadata": {},
   "source": [
    "### Q2-Change Gender 'man' into Male and 'women' into Female\n"
   ]
  },
  {
   "cell_type": "code",
   "execution_count": 13,
   "id": "908683ac",
   "metadata": {},
   "outputs": [
    {
     "data": {
      "text/plain": [
       "array(['Man', nan, 'Woman',\n",
       "       'Non-binary, genderqueer, or gender non-conforming',\n",
       "       'Woman;Non-binary, genderqueer, or gender non-conforming',\n",
       "       'Woman;Man;Non-binary, genderqueer, or gender non-conforming',\n",
       "       'Woman;Man',\n",
       "       'Man;Non-binary, genderqueer, or gender non-conforming'],\n",
       "      dtype=object)"
      ]
     },
     "execution_count": 13,
     "metadata": {},
     "output_type": "execute_result"
    }
   ],
   "source": [
    "survey[\"Gender\"].unique()"
   ]
  },
  {
   "cell_type": "code",
   "execution_count": 14,
   "id": "e943e39c",
   "metadata": {},
   "outputs": [
    {
     "data": {
      "text/plain": [
       "Respondent\n",
       "1        Male\n",
       "2        Male\n",
       "3        Male\n",
       "4        Male\n",
       "5        Male\n",
       "         ... \n",
       "88377    Male\n",
       "88601     NaN\n",
       "88802     NaN\n",
       "88816     NaN\n",
       "88863    Male\n",
       "Name: Gender, Length: 88883, dtype: object"
      ]
     },
     "execution_count": 14,
     "metadata": {},
     "output_type": "execute_result"
    }
   ],
   "source": [
    "que_2=survey[\"Gender\"].map({\"Man\":\"Male\",\"Woman\":\"Female\"})\n",
    "que_2"
   ]
  },
  {
   "cell_type": "code",
   "execution_count": 15,
   "id": "d3f10e6f",
   "metadata": {},
   "outputs": [
    {
     "data": {
      "text/plain": [
       "array(['Male', nan, 'Female'], dtype=object)"
      ]
     },
     "execution_count": 15,
     "metadata": {},
     "output_type": "execute_result"
    }
   ],
   "source": [
    "que_2.unique()"
   ]
  },
  {
   "cell_type": "markdown",
   "id": "3f2ae640",
   "metadata": {},
   "source": [
    "### Q3-Change all CurrencySymbol with CurrencyDesc\n"
   ]
  },
  {
   "cell_type": "code",
   "execution_count": 16,
   "id": "9775adb5",
   "metadata": {},
   "outputs": [
    {
     "data": {
      "text/plain": [
       "\"Which currency do you use day-to-day? If your answer is complicated, please pick the one you're most comfortable estimating in.\""
      ]
     },
     "execution_count": 16,
     "metadata": {},
     "output_type": "execute_result"
    }
   ],
   "source": [
    "schema.loc[\"CurrencySymbol\",\"QuestionText\"]"
   ]
  },
  {
   "cell_type": "code",
   "execution_count": 17,
   "id": "614b6b01",
   "metadata": {},
   "outputs": [
    {
     "data": {
      "text/plain": [
       "\"Which currency do you use day-to-day? If your answer is complicated, please pick the one you're most comfortable estimating in.\""
      ]
     },
     "execution_count": 17,
     "metadata": {},
     "output_type": "execute_result"
    }
   ],
   "source": [
    "schema.loc[\"CurrencyDesc\",\"QuestionText\"]"
   ]
  },
  {
   "cell_type": "code",
   "execution_count": 18,
   "id": "fbbb2399",
   "metadata": {
    "collapsed": true
   },
   "outputs": [
    {
     "data": {
      "text/plain": [
       "array([nan, 'Thai baht', 'United States dollar', 'Ukrainian hryvnia',\n",
       "       'Canadian dollar', 'New Zealand dollar', 'Indian rupee',\n",
       "       'European Euro', 'Pound sterling', 'Australian dollar',\n",
       "       'Russian ruble', 'Brazilian real', 'Israeli new shekel',\n",
       "       'South African rand', 'Turkish lira', 'Swiss franc',\n",
       "       'Czech koruna', 'Malaysian ringgit', 'Polish zloty',\n",
       "       'Swedish krona', 'Chinese Yuan Renminbi', 'Argentine peso',\n",
       "       'Philippine peso', 'Pakistani rupee', 'Azerbaijan manat',\n",
       "       'Croatian kuna', 'South Korean won', 'Bulgarian lev',\n",
       "       'Vietnamese dong', 'Iranian rial', 'Hungarian forint',\n",
       "       'Hong Kong dollar', 'United Arab Emirates dirham',\n",
       "       'Nigerian naira', 'Norwegian krone', 'Danish krone',\n",
       "       'Japanese yen', 'CFP franc', 'Mexican peso', 'Egyptian pound',\n",
       "       'Mauritian rupee', 'Ugandan shilling', 'Saudi Arabian riyal',\n",
       "       'Sierra Leonean leone', 'Nicaraguan cordoba', 'Singapore dollar',\n",
       "       'Nepalese rupee', 'Armenian dram', 'Romanian leu',\n",
       "       'Afghan afghani', 'Bahraini dinar', 'Mongolian tugrik',\n",
       "       'Chilean peso', 'Georgian lari', 'Kenyan shilling',\n",
       "       'Dominican peso', 'Bangladeshi taka', 'Cape Verdean escudo',\n",
       "       'Serbian dinar', 'Burundi franc', 'Sri Lankan rupee',\n",
       "       'Iraqi dinar', 'Colombian peso', 'Guatemalan quetzal',\n",
       "       'New Taiwan dollar', 'Yemeni rial', 'Indonesian rupiah',\n",
       "       'Belarusian ruble', 'Libyan dinar', 'Angolan kwanza',\n",
       "       'Albanian lek', 'Lebanese pound', 'Kuwaiti dinar', 'Moldovan leu',\n",
       "       'Algerian dinar', 'Bosnia and Herzegovina convertible mark',\n",
       "       'Syrian pound', 'West African CFA franc', 'Moroccan dirham',\n",
       "       'Central African CFA franc', 'Brunei dollar', 'Macedonian denar',\n",
       "       'Jordanian dinar', 'Trinidad and Tobago dollar', 'Zambian kwacha',\n",
       "       'Costa Rican colon', 'Ghanaian cedi', 'Paraguayan guarani',\n",
       "       'Myanmar kyat', 'Peruvian sol', 'Uzbekistani som',\n",
       "       'Tunisian dinar', 'Honduran lempira', 'Qatari riyal',\n",
       "       'Rwandan franc', 'Kazakhstani tenge', 'Tajikistani somoni',\n",
       "       'Uruguayan peso', 'Turkmen manat', 'Tanzanian shilling',\n",
       "       'Kyrgyzstani som', 'Sudanese pound',\n",
       "       'Netherlands Antillean guilder', 'Somali shilling',\n",
       "       'Guinean franc', 'Ethiopian birr', 'Cambodian riel', 'Cuban peso',\n",
       "       'Mauritanian ouguiya', 'Botswana pula', 'Bolivian boliviano',\n",
       "       'Icelandic krona', 'Djiboutian franc', 'Venezuelan bolivar',\n",
       "       'Belize dollar', 'Jamaican dollar', 'Maldivian rufiyaa',\n",
       "       'e\\tCook Islands dollar', 'Samoan tala', 'Mozambican metical',\n",
       "       'SDR (Special Drawing Right)', 'Barbadian dollar',\n",
       "       'Haitian gourde', 'Lesotho loti', 'Swazi lilangeni',\n",
       "       'Guyanese dollar', 'Malagasy ariary', 'Falkland Islands pound',\n",
       "       'Fijian dollar', 'Bermudian dollar', 'Vanuatu vatu',\n",
       "       'Guernsey Pound', 'East Caribbean dollar', 'Bahamian dollar',\n",
       "       'Aruban florin', 'Omani rial', 'Bhutanese ngultrum', 'Manx pound',\n",
       "       'Surinamese dollar', 'Lao kip', 'e\\tFaroese krona',\n",
       "       'Seychellois rupee', 'Malawian kwacha', 'Cayman Islands dollar',\n",
       "       'Congolese franc'], dtype=object)"
      ]
     },
     "execution_count": 18,
     "metadata": {},
     "output_type": "execute_result"
    }
   ],
   "source": [
    "survey[\"CurrencyDesc\"].unique()"
   ]
  },
  {
   "cell_type": "code",
   "execution_count": 19,
   "id": "304efbf0",
   "metadata": {
    "collapsed": true
   },
   "outputs": [
    {
     "data": {
      "text/plain": [
       "array([nan, 'THB', 'USD', 'UAH', 'CAD', 'NZD', 'INR', 'EUR', 'GBP', 'AUD',\n",
       "       'RUB', 'BRL', 'ILS', 'ZAR', 'TRY', 'CHF', 'CZK', 'MYR', 'PLN',\n",
       "       'SEK', 'CNY', 'ARS', 'PHP', 'PKR', 'AZN', 'HRK', 'KRW', 'BGN',\n",
       "       'VND', 'IRR', 'HUF', 'HKD', 'AED', 'NGN', 'NOK', 'DKK', 'JPY',\n",
       "       'XPF', 'MXN', 'EGP', 'MUR', 'UGX', 'SAR', 'SLL', 'NIO', 'SGD',\n",
       "       'NPR', 'AMD', 'RON', 'AFN', 'BHD', 'MNT', 'CLP', 'GEL', 'KES',\n",
       "       'DOP', 'BDT', 'CVE', 'RSD', 'BIF', 'LKR', 'IQD', 'COP', 'GTQ',\n",
       "       'TWD', 'YER', 'IDR', 'BYN', 'LYD', 'AOA', 'ALL', 'LBP', 'KWD',\n",
       "       'MDL', 'DZD', 'BAM', 'SYP', 'XOF', 'MAD', 'XAF', 'BND', 'MKD',\n",
       "       'JOD', 'TTD', 'ZMW', 'CRC', 'GHS', 'PYG', 'MMK', 'PEN', 'UZS',\n",
       "       'TND', 'HNL', 'QAR', 'RWF', 'KZT', 'TJS', 'UYU', 'TMT', 'TZS',\n",
       "       'KGS', 'SDG', 'ANG', 'SOS', 'GNF', 'ETB', 'KHR', 'CUP', 'MRU',\n",
       "       'BWP', 'BOB', 'ISK', 'DJF', 'VES', 'BZD', 'JMD', 'MVR', 'non',\n",
       "       'WST', 'MZN', 'XDR', 'BBD', 'HTG', 'LSL', 'SZL', 'GYD', 'MGA',\n",
       "       'FKP', 'FJD', 'BMD', 'VUV', 'GGP', 'XCD', 'BSD', 'AWG', 'OMR',\n",
       "       'BTN', 'IMP', 'SRD', 'LAK', 'SCR', 'MWK', 'KYD', 'CDF'],\n",
       "      dtype=object)"
      ]
     },
     "execution_count": 19,
     "metadata": {},
     "output_type": "execute_result"
    }
   ],
   "source": [
    "survey[\"CurrencySymbol\"].unique()"
   ]
  },
  {
   "cell_type": "code",
   "execution_count": 20,
   "id": "4604d680",
   "metadata": {
    "collapsed": true
   },
   "outputs": [
    {
     "ename": "TypeError",
     "evalue": "unhashable type: 'list'",
     "output_type": "error",
     "traceback": [
      "\u001b[1;31m---------------------------------------------------------------------------\u001b[0m",
      "\u001b[1;31mTypeError\u001b[0m                                 Traceback (most recent call last)",
      "Cell \u001b[1;32mIn[20], line 1\u001b[0m\n\u001b[1;32m----> 1\u001b[0m data[\u001b[38;5;124m\"\u001b[39m\u001b[38;5;124mCurrencySymbol\u001b[39m\u001b[38;5;124m\"\u001b[39m]\u001b[38;5;241m.\u001b[39mmap({[\u001b[38;5;124m'\u001b[39m\u001b[38;5;124mTHB\u001b[39m\u001b[38;5;124m'\u001b[39m, \u001b[38;5;124m'\u001b[39m\u001b[38;5;124mUSD\u001b[39m\u001b[38;5;124m'\u001b[39m, \u001b[38;5;124m'\u001b[39m\u001b[38;5;124mUAH\u001b[39m\u001b[38;5;124m'\u001b[39m, \u001b[38;5;124m'\u001b[39m\u001b[38;5;124mCAD\u001b[39m\u001b[38;5;124m'\u001b[39m, \u001b[38;5;124m'\u001b[39m\u001b[38;5;124mNZD\u001b[39m\u001b[38;5;124m'\u001b[39m, \u001b[38;5;124m'\u001b[39m\u001b[38;5;124mINR\u001b[39m\u001b[38;5;124m'\u001b[39m]:[\u001b[38;5;124m'\u001b[39m\u001b[38;5;124mThai baht\u001b[39m\u001b[38;5;124m'\u001b[39m, \u001b[38;5;124m'\u001b[39m\u001b[38;5;124mUnited States dollar\u001b[39m\u001b[38;5;124m'\u001b[39m,\u001b[38;5;124m'\u001b[39m\u001b[38;5;124mUkrainian hryvnia\u001b[39m\u001b[38;5;124m'\u001b[39m,\u001b[38;5;124m'\u001b[39m\u001b[38;5;124mCanadian dollar\u001b[39m\u001b[38;5;124m'\u001b[39m, \u001b[38;5;124m'\u001b[39m\u001b[38;5;124mNew Zealand dollar\u001b[39m\u001b[38;5;124m'\u001b[39m, \u001b[38;5;124m'\u001b[39m\u001b[38;5;124mIndian rupee\u001b[39m\u001b[38;5;124m'\u001b[39m]})\n",
      "\u001b[1;31mTypeError\u001b[0m: unhashable type: 'list'"
     ]
    }
   ],
   "source": [
    "data[\"CurrencySymbol\"].map({['THB', 'USD', 'UAH', 'CAD', 'NZD', 'INR']:['Thai baht', 'United States dollar','Ukrainian hryvnia','Canadian dollar', 'New Zealand dollar', 'Indian rupee']})"
   ]
  },
  {
   "cell_type": "code",
   "execution_count": 146,
   "id": "f604bb2e",
   "metadata": {},
   "outputs": [],
   "source": [
    "data_country=data[\"CurrencySymbol\"].map({\"THB\":\"Thai baht\",\"USD\":\"United States dollar\",\"UAH\":\"Ukrainian hryvnia\",\"CAD\":\"Canadian dollar\",\"NZD\":\"New Zealand dollar\"})"
   ]
  },
  {
   "cell_type": "code",
   "execution_count": 147,
   "id": "85fcd1eb",
   "metadata": {},
   "outputs": [
    {
     "data": {
      "text/plain": [
       "array(['United States dollar', nan, 'Canadian dollar',\n",
       "       'Ukrainian hryvnia', 'New Zealand dollar', 'Thai baht'],\n",
       "      dtype=object)"
      ]
     },
     "execution_count": 147,
     "metadata": {},
     "output_type": "execute_result"
    }
   ],
   "source": [
    "data_country.unique()"
   ]
  },
  {
   "cell_type": "code",
   "execution_count": null,
   "id": "a7487fce",
   "metadata": {},
   "outputs": [],
   "source": []
  },
  {
   "cell_type": "code",
   "execution_count": null,
   "id": "22b18d1b",
   "metadata": {},
   "outputs": [],
   "source": []
  },
  {
   "cell_type": "markdown",
   "id": "67bd54c2",
   "metadata": {},
   "source": [
    "### Q4-replace developers who earns more than 1900000 into 1900000"
   ]
  },
  {
   "cell_type": "code",
   "execution_count": 70,
   "id": "aff80f92",
   "metadata": {
    "collapsed": true
   },
   "outputs": [
    {
     "data": {
      "text/plain": [
       "2000000.0    709\n",
       "1000000.0    558\n",
       "120000.0     502\n",
       "100000.0     480\n",
       "150000.0     434\n",
       "            ... \n",
       "59028.0        1\n",
       "35232.0        1\n",
       "118019.0       1\n",
       "5220.0         1\n",
       "20712.0        1\n",
       "Name: Salary, Length: 9162, dtype: int64"
      ]
     },
     "execution_count": 70,
     "metadata": {},
     "output_type": "execute_result"
    }
   ],
   "source": [
    "data[\"Salary\"].value_counts()"
   ]
  },
  {
   "cell_type": "code",
   "execution_count": 71,
   "id": "4940f8eb",
   "metadata": {},
   "outputs": [
    {
     "data": {
      "text/plain": [
       "33060"
      ]
     },
     "execution_count": 71,
     "metadata": {},
     "output_type": "execute_result"
    }
   ],
   "source": [
    "data[\"Salary\"].isnull().sum()"
   ]
  },
  {
   "cell_type": "code",
   "execution_count": 122,
   "id": "59b5c83a",
   "metadata": {},
   "outputs": [],
   "source": [
    "data.dropna(subset=[\"Salary\"],inplace=True)"
   ]
  },
  {
   "cell_type": "code",
   "execution_count": 157,
   "id": "2997623f",
   "metadata": {},
   "outputs": [
    {
     "data": {
      "text/plain": [
       "0"
      ]
     },
     "execution_count": 157,
     "metadata": {},
     "output_type": "execute_result"
    }
   ],
   "source": [
    "data[\"Salary\"].isnull().sum()"
   ]
  },
  {
   "cell_type": "code",
   "execution_count": 159,
   "id": "6c8f7932",
   "metadata": {
    "collapsed": true
   },
   "outputs": [
    {
     "data": {
      "text/html": [
       "<div>\n",
       "<style scoped>\n",
       "    .dataframe tbody tr th:only-of-type {\n",
       "        vertical-align: middle;\n",
       "    }\n",
       "\n",
       "    .dataframe tbody tr th {\n",
       "        vertical-align: top;\n",
       "    }\n",
       "\n",
       "    .dataframe thead th {\n",
       "        text-align: right;\n",
       "    }\n",
       "</style>\n",
       "<table border=\"1\" class=\"dataframe\">\n",
       "  <thead>\n",
       "    <tr style=\"text-align: right;\">\n",
       "      <th></th>\n",
       "      <th>MainBranch</th>\n",
       "      <th>Hobbyist</th>\n",
       "      <th>OpenSourcer</th>\n",
       "      <th>OpenSource</th>\n",
       "      <th>Employment</th>\n",
       "      <th>Place</th>\n",
       "      <th>Student</th>\n",
       "      <th>Education</th>\n",
       "      <th>UndergradMajor</th>\n",
       "      <th>EduOther</th>\n",
       "      <th>...</th>\n",
       "      <th>WelcomeChange</th>\n",
       "      <th>SONewContent</th>\n",
       "      <th>Age</th>\n",
       "      <th>Gender</th>\n",
       "      <th>Trans</th>\n",
       "      <th>Sexuality</th>\n",
       "      <th>Ethnicity</th>\n",
       "      <th>Dependents</th>\n",
       "      <th>SurveyLength</th>\n",
       "      <th>SurveyEase</th>\n",
       "    </tr>\n",
       "    <tr>\n",
       "      <th>Respondent</th>\n",
       "      <th></th>\n",
       "      <th></th>\n",
       "      <th></th>\n",
       "      <th></th>\n",
       "      <th></th>\n",
       "      <th></th>\n",
       "      <th></th>\n",
       "      <th></th>\n",
       "      <th></th>\n",
       "      <th></th>\n",
       "      <th></th>\n",
       "      <th></th>\n",
       "      <th></th>\n",
       "      <th></th>\n",
       "      <th></th>\n",
       "      <th></th>\n",
       "      <th></th>\n",
       "      <th></th>\n",
       "      <th></th>\n",
       "      <th></th>\n",
       "      <th></th>\n",
       "    </tr>\n",
       "  </thead>\n",
       "  <tbody>\n",
       "    <tr>\n",
       "      <th>11853</th>\n",
       "      <td>I am a developer by profession</td>\n",
       "      <td>Yes</td>\n",
       "      <td>Never</td>\n",
       "      <td>The quality of OSS and closed source software ...</td>\n",
       "      <td>Employed full-time</td>\n",
       "      <td>United States</td>\n",
       "      <td>Yes, full-time</td>\n",
       "      <td>Bachelor’s degree (BA, BS, B.Eng., etc.)</td>\n",
       "      <td>Computer science, computer engineering, or sof...</td>\n",
       "      <td>Taken an online course in programming or softw...</td>\n",
       "      <td>...</td>\n",
       "      <td>Just as welcome now as I felt last year</td>\n",
       "      <td>NaN</td>\n",
       "      <td>1.0</td>\n",
       "      <td>NaN</td>\n",
       "      <td>No</td>\n",
       "      <td>Straight / Heterosexual</td>\n",
       "      <td>White or of European descent</td>\n",
       "      <td>NaN</td>\n",
       "      <td>Too long</td>\n",
       "      <td>Neither easy nor difficult</td>\n",
       "    </tr>\n",
       "    <tr>\n",
       "      <th>25198</th>\n",
       "      <td>I am a developer by profession</td>\n",
       "      <td>Yes</td>\n",
       "      <td>Less than once a month but more than once per ...</td>\n",
       "      <td>OSS is, on average, of HIGHER quality than pro...</td>\n",
       "      <td>Employed full-time</td>\n",
       "      <td>United States</td>\n",
       "      <td>No</td>\n",
       "      <td>Bachelor’s degree (BA, BS, B.Eng., etc.)</td>\n",
       "      <td>Mathematics or statistics</td>\n",
       "      <td>Taken an online course in programming or softw...</td>\n",
       "      <td>...</td>\n",
       "      <td>Somewhat less welcome now than last year</td>\n",
       "      <td>Tech articles written by other developers;Indu...</td>\n",
       "      <td>19.0</td>\n",
       "      <td>Man</td>\n",
       "      <td>No</td>\n",
       "      <td>Straight / Heterosexual</td>\n",
       "      <td>White or of European descent</td>\n",
       "      <td>No</td>\n",
       "      <td>Appropriate in length</td>\n",
       "      <td>Neither easy nor difficult</td>\n",
       "    </tr>\n",
       "    <tr>\n",
       "      <th>25797</th>\n",
       "      <td>I am not primarily a developer, but I write co...</td>\n",
       "      <td>Yes</td>\n",
       "      <td>Less than once per year</td>\n",
       "      <td>OSS is, on average, of HIGHER quality than pro...</td>\n",
       "      <td>Employed full-time</td>\n",
       "      <td>United States</td>\n",
       "      <td>Yes, full-time</td>\n",
       "      <td>Some college/university study without earning ...</td>\n",
       "      <td>Another engineering discipline (ex. civil, ele...</td>\n",
       "      <td>Taught yourself a new language, framework, or ...</td>\n",
       "      <td>...</td>\n",
       "      <td>Just as welcome now as I felt last year</td>\n",
       "      <td>Tech articles written by other developers;Indu...</td>\n",
       "      <td>20.0</td>\n",
       "      <td>Man</td>\n",
       "      <td>No</td>\n",
       "      <td>Straight / Heterosexual</td>\n",
       "      <td>Hispanic or Latino/Latina;White or of European...</td>\n",
       "      <td>No</td>\n",
       "      <td>Appropriate in length</td>\n",
       "      <td>Easy</td>\n",
       "    </tr>\n",
       "    <tr>\n",
       "      <th>33107</th>\n",
       "      <td>I am a developer by profession</td>\n",
       "      <td>Yes</td>\n",
       "      <td>Never</td>\n",
       "      <td>OSS is, on average, of HIGHER quality than pro...</td>\n",
       "      <td>Employed full-time</td>\n",
       "      <td>United States</td>\n",
       "      <td>No</td>\n",
       "      <td>Associate degree</td>\n",
       "      <td>Computer science, computer engineering, or sof...</td>\n",
       "      <td>Taken an online course in programming or softw...</td>\n",
       "      <td>...</td>\n",
       "      <td>Just as welcome now as I felt last year</td>\n",
       "      <td>Tech articles written by other developers</td>\n",
       "      <td>20.0</td>\n",
       "      <td>Man</td>\n",
       "      <td>No</td>\n",
       "      <td>Straight / Heterosexual</td>\n",
       "      <td>White or of European descent</td>\n",
       "      <td>No</td>\n",
       "      <td>Appropriate in length</td>\n",
       "      <td>Easy</td>\n",
       "    </tr>\n",
       "    <tr>\n",
       "      <th>45835</th>\n",
       "      <td>I am a developer by profession</td>\n",
       "      <td>Yes</td>\n",
       "      <td>Less than once a month but more than once per ...</td>\n",
       "      <td>OSS is, on average, of HIGHER quality than pro...</td>\n",
       "      <td>Employed full-time</td>\n",
       "      <td>United States</td>\n",
       "      <td>Yes, full-time</td>\n",
       "      <td>Some college/university study without earning ...</td>\n",
       "      <td>Computer science, computer engineering, or sof...</td>\n",
       "      <td>Taken an online course in programming or softw...</td>\n",
       "      <td>...</td>\n",
       "      <td>Just as welcome now as I felt last year</td>\n",
       "      <td>Tech articles written by other developers;Indu...</td>\n",
       "      <td>21.0</td>\n",
       "      <td>Man</td>\n",
       "      <td>No</td>\n",
       "      <td>Straight / Heterosexual</td>\n",
       "      <td>White or of European descent</td>\n",
       "      <td>No</td>\n",
       "      <td>Appropriate in length</td>\n",
       "      <td>Neither easy nor difficult</td>\n",
       "    </tr>\n",
       "    <tr>\n",
       "      <th>...</th>\n",
       "      <td>...</td>\n",
       "      <td>...</td>\n",
       "      <td>...</td>\n",
       "      <td>...</td>\n",
       "      <td>...</td>\n",
       "      <td>...</td>\n",
       "      <td>...</td>\n",
       "      <td>...</td>\n",
       "      <td>...</td>\n",
       "      <td>...</td>\n",
       "      <td>...</td>\n",
       "      <td>...</td>\n",
       "      <td>...</td>\n",
       "      <td>...</td>\n",
       "      <td>...</td>\n",
       "      <td>...</td>\n",
       "      <td>...</td>\n",
       "      <td>...</td>\n",
       "      <td>...</td>\n",
       "      <td>...</td>\n",
       "      <td>...</td>\n",
       "    </tr>\n",
       "    <tr>\n",
       "      <th>27865</th>\n",
       "      <td>I am not primarily a developer, but I write co...</td>\n",
       "      <td>Yes</td>\n",
       "      <td>Less than once per year</td>\n",
       "      <td>NaN</td>\n",
       "      <td>Independent contractor, freelancer, or self-em...</td>\n",
       "      <td>United States</td>\n",
       "      <td>No</td>\n",
       "      <td>Associate degree</td>\n",
       "      <td>A social science (ex. anthropology, psychology...</td>\n",
       "      <td>Taken an online course in programming or softw...</td>\n",
       "      <td>...</td>\n",
       "      <td>A lot less welcome now than last year</td>\n",
       "      <td>Tech meetups or events in your area;Courses on...</td>\n",
       "      <td>71.0</td>\n",
       "      <td>Man</td>\n",
       "      <td>NaN</td>\n",
       "      <td>Straight / Heterosexual</td>\n",
       "      <td>White or of European descent</td>\n",
       "      <td>Yes</td>\n",
       "      <td>Too long</td>\n",
       "      <td>Easy</td>\n",
       "    </tr>\n",
       "    <tr>\n",
       "      <th>50847</th>\n",
       "      <td>I am a developer by profession</td>\n",
       "      <td>Yes</td>\n",
       "      <td>Less than once per year</td>\n",
       "      <td>OSS is, on average, of LOWER quality than prop...</td>\n",
       "      <td>Independent contractor, freelancer, or self-em...</td>\n",
       "      <td>United States</td>\n",
       "      <td>No</td>\n",
       "      <td>Some college/university study without earning ...</td>\n",
       "      <td>Computer science, computer engineering, or sof...</td>\n",
       "      <td>Taken an online course in programming or softw...</td>\n",
       "      <td>...</td>\n",
       "      <td>Just as welcome now as I felt last year</td>\n",
       "      <td>Tech articles written by other developers;Tech...</td>\n",
       "      <td>99.0</td>\n",
       "      <td>Man</td>\n",
       "      <td>No</td>\n",
       "      <td>Straight / Heterosexual</td>\n",
       "      <td>White or of European descent</td>\n",
       "      <td>No</td>\n",
       "      <td>Too long</td>\n",
       "      <td>Easy</td>\n",
       "    </tr>\n",
       "    <tr>\n",
       "      <th>44003</th>\n",
       "      <td>I am a developer by profession</td>\n",
       "      <td>Yes</td>\n",
       "      <td>Less than once a month but more than once per ...</td>\n",
       "      <td>OSS is, on average, of HIGHER quality than pro...</td>\n",
       "      <td>Independent contractor, freelancer, or self-em...</td>\n",
       "      <td>United States</td>\n",
       "      <td>No</td>\n",
       "      <td>Bachelor’s degree (BA, BS, B.Eng., etc.)</td>\n",
       "      <td>Computer science, computer engineering, or sof...</td>\n",
       "      <td>Taught yourself a new language, framework, or ...</td>\n",
       "      <td>...</td>\n",
       "      <td>Just as welcome now as I felt last year</td>\n",
       "      <td>Tech articles written by other developers;Indu...</td>\n",
       "      <td>NaN</td>\n",
       "      <td>Woman</td>\n",
       "      <td>No</td>\n",
       "      <td>Straight / Heterosexual</td>\n",
       "      <td>East Asian</td>\n",
       "      <td>No</td>\n",
       "      <td>Too long</td>\n",
       "      <td>Difficult</td>\n",
       "    </tr>\n",
       "    <tr>\n",
       "      <th>53304</th>\n",
       "      <td>I am a developer by profession</td>\n",
       "      <td>Yes</td>\n",
       "      <td>Never</td>\n",
       "      <td>The quality of OSS and closed source software ...</td>\n",
       "      <td>Independent contractor, freelancer, or self-em...</td>\n",
       "      <td>United States</td>\n",
       "      <td>No</td>\n",
       "      <td>Bachelor’s degree (BA, BS, B.Eng., etc.)</td>\n",
       "      <td>Computer science, computer engineering, or sof...</td>\n",
       "      <td>Taken an online course in programming or softw...</td>\n",
       "      <td>...</td>\n",
       "      <td>Just as welcome now as I felt last year</td>\n",
       "      <td>Tech articles written by other developers;Indu...</td>\n",
       "      <td>NaN</td>\n",
       "      <td>Man</td>\n",
       "      <td>No</td>\n",
       "      <td>Straight / Heterosexual</td>\n",
       "      <td>White or of European descent</td>\n",
       "      <td>No</td>\n",
       "      <td>Appropriate in length</td>\n",
       "      <td>Easy</td>\n",
       "    </tr>\n",
       "    <tr>\n",
       "      <th>60766</th>\n",
       "      <td>I am a developer by profession</td>\n",
       "      <td>Yes</td>\n",
       "      <td>Never</td>\n",
       "      <td>The quality of OSS and closed source software ...</td>\n",
       "      <td>NaN</td>\n",
       "      <td>United States</td>\n",
       "      <td>No</td>\n",
       "      <td>Bachelor’s degree (BA, BS, B.Eng., etc.)</td>\n",
       "      <td>Computer science, computer engineering, or sof...</td>\n",
       "      <td>Taken an online course in programming or softw...</td>\n",
       "      <td>...</td>\n",
       "      <td>Just as welcome now as I felt last year</td>\n",
       "      <td>Tech articles written by other developers;Indu...</td>\n",
       "      <td>23.0</td>\n",
       "      <td>Man</td>\n",
       "      <td>No</td>\n",
       "      <td>Straight / Heterosexual</td>\n",
       "      <td>White or of European descent</td>\n",
       "      <td>No</td>\n",
       "      <td>Appropriate in length</td>\n",
       "      <td>Easy</td>\n",
       "    </tr>\n",
       "  </tbody>\n",
       "</table>\n",
       "<p>653 rows × 84 columns</p>\n",
       "</div>"
      ],
      "text/plain": [
       "                                                   MainBranch Hobbyist  \\\n",
       "Respondent                                                               \n",
       "11853                          I am a developer by profession      Yes   \n",
       "25198                          I am a developer by profession      Yes   \n",
       "25797       I am not primarily a developer, but I write co...      Yes   \n",
       "33107                          I am a developer by profession      Yes   \n",
       "45835                          I am a developer by profession      Yes   \n",
       "...                                                       ...      ...   \n",
       "27865       I am not primarily a developer, but I write co...      Yes   \n",
       "50847                          I am a developer by profession      Yes   \n",
       "44003                          I am a developer by profession      Yes   \n",
       "53304                          I am a developer by profession      Yes   \n",
       "60766                          I am a developer by profession      Yes   \n",
       "\n",
       "                                                  OpenSourcer  \\\n",
       "Respondent                                                      \n",
       "11853                                                   Never   \n",
       "25198       Less than once a month but more than once per ...   \n",
       "25797                                 Less than once per year   \n",
       "33107                                                   Never   \n",
       "45835       Less than once a month but more than once per ...   \n",
       "...                                                       ...   \n",
       "27865                                 Less than once per year   \n",
       "50847                                 Less than once per year   \n",
       "44003       Less than once a month but more than once per ...   \n",
       "53304                                                   Never   \n",
       "60766                                                   Never   \n",
       "\n",
       "                                                   OpenSource  \\\n",
       "Respondent                                                      \n",
       "11853       The quality of OSS and closed source software ...   \n",
       "25198       OSS is, on average, of HIGHER quality than pro...   \n",
       "25797       OSS is, on average, of HIGHER quality than pro...   \n",
       "33107       OSS is, on average, of HIGHER quality than pro...   \n",
       "45835       OSS is, on average, of HIGHER quality than pro...   \n",
       "...                                                       ...   \n",
       "27865                                                     NaN   \n",
       "50847       OSS is, on average, of LOWER quality than prop...   \n",
       "44003       OSS is, on average, of HIGHER quality than pro...   \n",
       "53304       The quality of OSS and closed source software ...   \n",
       "60766       The quality of OSS and closed source software ...   \n",
       "\n",
       "                                                   Employment          Place  \\\n",
       "Respondent                                                                     \n",
       "11853                                      Employed full-time  United States   \n",
       "25198                                      Employed full-time  United States   \n",
       "25797                                      Employed full-time  United States   \n",
       "33107                                      Employed full-time  United States   \n",
       "45835                                      Employed full-time  United States   \n",
       "...                                                       ...            ...   \n",
       "27865       Independent contractor, freelancer, or self-em...  United States   \n",
       "50847       Independent contractor, freelancer, or self-em...  United States   \n",
       "44003       Independent contractor, freelancer, or self-em...  United States   \n",
       "53304       Independent contractor, freelancer, or self-em...  United States   \n",
       "60766                                                     NaN  United States   \n",
       "\n",
       "                   Student                                          Education  \\\n",
       "Respondent                                                                      \n",
       "11853       Yes, full-time           Bachelor’s degree (BA, BS, B.Eng., etc.)   \n",
       "25198                   No           Bachelor’s degree (BA, BS, B.Eng., etc.)   \n",
       "25797       Yes, full-time  Some college/university study without earning ...   \n",
       "33107                   No                                   Associate degree   \n",
       "45835       Yes, full-time  Some college/university study without earning ...   \n",
       "...                    ...                                                ...   \n",
       "27865                   No                                   Associate degree   \n",
       "50847                   No  Some college/university study without earning ...   \n",
       "44003                   No           Bachelor’s degree (BA, BS, B.Eng., etc.)   \n",
       "53304                   No           Bachelor’s degree (BA, BS, B.Eng., etc.)   \n",
       "60766                   No           Bachelor’s degree (BA, BS, B.Eng., etc.)   \n",
       "\n",
       "                                               UndergradMajor  \\\n",
       "Respondent                                                      \n",
       "11853       Computer science, computer engineering, or sof...   \n",
       "25198                               Mathematics or statistics   \n",
       "25797       Another engineering discipline (ex. civil, ele...   \n",
       "33107       Computer science, computer engineering, or sof...   \n",
       "45835       Computer science, computer engineering, or sof...   \n",
       "...                                                       ...   \n",
       "27865       A social science (ex. anthropology, psychology...   \n",
       "50847       Computer science, computer engineering, or sof...   \n",
       "44003       Computer science, computer engineering, or sof...   \n",
       "53304       Computer science, computer engineering, or sof...   \n",
       "60766       Computer science, computer engineering, or sof...   \n",
       "\n",
       "                                                     EduOther  ...  \\\n",
       "Respondent                                                     ...   \n",
       "11853       Taken an online course in programming or softw...  ...   \n",
       "25198       Taken an online course in programming or softw...  ...   \n",
       "25797       Taught yourself a new language, framework, or ...  ...   \n",
       "33107       Taken an online course in programming or softw...  ...   \n",
       "45835       Taken an online course in programming or softw...  ...   \n",
       "...                                                       ...  ...   \n",
       "27865       Taken an online course in programming or softw...  ...   \n",
       "50847       Taken an online course in programming or softw...  ...   \n",
       "44003       Taught yourself a new language, framework, or ...  ...   \n",
       "53304       Taken an online course in programming or softw...  ...   \n",
       "60766       Taken an online course in programming or softw...  ...   \n",
       "\n",
       "                                       WelcomeChange  \\\n",
       "Respondent                                             \n",
       "11853        Just as welcome now as I felt last year   \n",
       "25198       Somewhat less welcome now than last year   \n",
       "25797        Just as welcome now as I felt last year   \n",
       "33107        Just as welcome now as I felt last year   \n",
       "45835        Just as welcome now as I felt last year   \n",
       "...                                              ...   \n",
       "27865          A lot less welcome now than last year   \n",
       "50847        Just as welcome now as I felt last year   \n",
       "44003        Just as welcome now as I felt last year   \n",
       "53304        Just as welcome now as I felt last year   \n",
       "60766        Just as welcome now as I felt last year   \n",
       "\n",
       "                                                 SONewContent   Age  Gender  \\\n",
       "Respondent                                                                    \n",
       "11853                                                     NaN   1.0     NaN   \n",
       "25198       Tech articles written by other developers;Indu...  19.0     Man   \n",
       "25797       Tech articles written by other developers;Indu...  20.0     Man   \n",
       "33107               Tech articles written by other developers  20.0     Man   \n",
       "45835       Tech articles written by other developers;Indu...  21.0     Man   \n",
       "...                                                       ...   ...     ...   \n",
       "27865       Tech meetups or events in your area;Courses on...  71.0     Man   \n",
       "50847       Tech articles written by other developers;Tech...  99.0     Man   \n",
       "44003       Tech articles written by other developers;Indu...   NaN   Woman   \n",
       "53304       Tech articles written by other developers;Indu...   NaN     Man   \n",
       "60766       Tech articles written by other developers;Indu...  23.0     Man   \n",
       "\n",
       "           Trans                Sexuality  \\\n",
       "Respondent                                  \n",
       "11853         No  Straight / Heterosexual   \n",
       "25198         No  Straight / Heterosexual   \n",
       "25797         No  Straight / Heterosexual   \n",
       "33107         No  Straight / Heterosexual   \n",
       "45835         No  Straight / Heterosexual   \n",
       "...          ...                      ...   \n",
       "27865        NaN  Straight / Heterosexual   \n",
       "50847         No  Straight / Heterosexual   \n",
       "44003         No  Straight / Heterosexual   \n",
       "53304         No  Straight / Heterosexual   \n",
       "60766         No  Straight / Heterosexual   \n",
       "\n",
       "                                                    Ethnicity Dependents  \\\n",
       "Respondent                                                                 \n",
       "11853                            White or of European descent        NaN   \n",
       "25198                            White or of European descent         No   \n",
       "25797       Hispanic or Latino/Latina;White or of European...         No   \n",
       "33107                            White or of European descent         No   \n",
       "45835                            White or of European descent         No   \n",
       "...                                                       ...        ...   \n",
       "27865                            White or of European descent        Yes   \n",
       "50847                            White or of European descent         No   \n",
       "44003                                              East Asian         No   \n",
       "53304                            White or of European descent         No   \n",
       "60766                            White or of European descent         No   \n",
       "\n",
       "                     SurveyLength                  SurveyEase  \n",
       "Respondent                                                     \n",
       "11853                    Too long  Neither easy nor difficult  \n",
       "25198       Appropriate in length  Neither easy nor difficult  \n",
       "25797       Appropriate in length                        Easy  \n",
       "33107       Appropriate in length                        Easy  \n",
       "45835       Appropriate in length  Neither easy nor difficult  \n",
       "...                           ...                         ...  \n",
       "27865                    Too long                        Easy  \n",
       "50847                    Too long                        Easy  \n",
       "44003                    Too long                   Difficult  \n",
       "53304       Appropriate in length                        Easy  \n",
       "60766       Appropriate in length                        Easy  \n",
       "\n",
       "[653 rows x 84 columns]"
      ]
     },
     "execution_count": 159,
     "metadata": {},
     "output_type": "execute_result"
    }
   ],
   "source": [
    "data[data[\"Salary\"]>1900000]"
   ]
  },
  {
   "cell_type": "code",
   "execution_count": null,
   "id": "8705bf5f",
   "metadata": {},
   "outputs": [],
   "source": [
    "data[\"Salary\"]="
   ]
  },
  {
   "cell_type": "code",
   "execution_count": null,
   "id": "e2d8ff77",
   "metadata": {},
   "outputs": [],
   "source": []
  },
  {
   "cell_type": "code",
   "execution_count": null,
   "id": "36a5b57f",
   "metadata": {},
   "outputs": [],
   "source": []
  },
  {
   "cell_type": "code",
   "execution_count": 155,
   "id": "b54bc726",
   "metadata": {},
   "outputs": [
    {
     "data": {
      "text/plain": [
       "False"
      ]
     },
     "execution_count": 155,
     "metadata": {},
     "output_type": "execute_result"
    }
   ],
   "source": [
    "dev_more=(data[\"Salary\"]>1900000,[\"Salary\"])==1900000\n",
    "dev_more"
   ]
  },
  {
   "cell_type": "code",
   "execution_count": 156,
   "id": "6936f8bd",
   "metadata": {},
   "outputs": [
    {
     "ename": "AttributeError",
     "evalue": "'bool' object has no attribute 'max'",
     "output_type": "error",
     "traceback": [
      "\u001b[1;31m---------------------------------------------------------------------------\u001b[0m",
      "\u001b[1;31mAttributeError\u001b[0m                            Traceback (most recent call last)",
      "Cell \u001b[1;32mIn[156], line 1\u001b[0m\n\u001b[1;32m----> 1\u001b[0m \u001b[43mdev_more\u001b[49m\u001b[38;5;241;43m.\u001b[39;49m\u001b[43mmax\u001b[49m()\n",
      "\u001b[1;31mAttributeError\u001b[0m: 'bool' object has no attribute 'max'"
     ]
    }
   ],
   "source": [
    "dev_more.max()"
   ]
  },
  {
   "cell_type": "code",
   "execution_count": null,
   "id": "96d2aa3c",
   "metadata": {},
   "outputs": [],
   "source": [
    "dev_more[\"Salary\"]"
   ]
  },
  {
   "cell_type": "code",
   "execution_count": null,
   "id": "ee043ad7",
   "metadata": {},
   "outputs": [],
   "source": [
    "dev=data[\"Salary\"]==1900000"
   ]
  },
  {
   "cell_type": "code",
   "execution_count": null,
   "id": "c72416e7",
   "metadata": {},
   "outputs": [],
   "source": [
    "data_sal=data[\"Salary\"].replace(dev_more,dev)"
   ]
  },
  {
   "cell_type": "code",
   "execution_count": null,
   "id": "3f4e21ac",
   "metadata": {},
   "outputs": [],
   "source": [
    "data.replace(data[\"Salary\"]>1900000,data[\"Salary\"]==1900000)"
   ]
  },
  {
   "cell_type": "code",
   "execution_count": null,
   "id": "bd5385a3",
   "metadata": {},
   "outputs": [],
   "source": [
    "data.loc(data[\"Salary\"]>1900000)"
   ]
  },
  {
   "cell_type": "code",
   "execution_count": null,
   "id": "f1deae1c",
   "metadata": {},
   "outputs": [],
   "source": [
    "data.replace(dev,)"
   ]
  },
  {
   "cell_type": "markdown",
   "id": "76a48038",
   "metadata": {},
   "source": [
    "### Q5-Fill all the nan values of WorkingLocation with appropriate values"
   ]
  },
  {
   "cell_type": "code",
   "execution_count": null,
   "id": "4a3a8701",
   "metadata": {},
   "outputs": [],
   "source": [
    "data.columns"
   ]
  },
  {
   "cell_type": "code",
   "execution_count": 112,
   "id": "cd6298dc",
   "metadata": {},
   "outputs": [
    {
     "data": {
      "text/plain": [
       "array([nan, 'Home', 'Office',\n",
       "       'Other place, such as a coworking space or cafe'], dtype=object)"
      ]
     },
     "execution_count": 112,
     "metadata": {},
     "output_type": "execute_result"
    }
   ],
   "source": [
    "data[\"WorkingLocation\"].unique()"
   ]
  },
  {
   "cell_type": "code",
   "execution_count": 113,
   "id": "cdeb3883",
   "metadata": {
    "scrolled": true
   },
   "outputs": [
    {
     "data": {
      "text/plain": [
       "Office                                            40592\n",
       "Home                                              23278\n",
       "Other place, such as a coworking space or cafe     6185\n",
       "Name: WorkingLocation, dtype: int64"
      ]
     },
     "execution_count": 113,
     "metadata": {},
     "output_type": "execute_result"
    }
   ],
   "source": [
    "data[\"WorkingLocation\"].value_counts()"
   ]
  },
  {
   "cell_type": "code",
   "execution_count": 114,
   "id": "97175933",
   "metadata": {},
   "outputs": [
    {
     "data": {
      "text/plain": [
       "18828"
      ]
     },
     "execution_count": 114,
     "metadata": {},
     "output_type": "execute_result"
    }
   ],
   "source": [
    "data[\"WorkingLocation\"].isnull().sum()"
   ]
  },
  {
   "cell_type": "code",
   "execution_count": null,
   "id": "8a6d436a",
   "metadata": {},
   "outputs": [],
   "source": [
    "# data[\"WorkingLocation\"].fillna(\"Office\",inplace=True)"
   ]
  },
  {
   "cell_type": "code",
   "execution_count": null,
   "id": "5eebfbe7",
   "metadata": {},
   "outputs": [],
   "source": [
    "# data[\"WorkingLocation\"].isnull().sum()"
   ]
  },
  {
   "cell_type": "code",
   "execution_count": null,
   "id": "2d2d895a",
   "metadata": {},
   "outputs": [],
   "source": [
    "# data[\"WorkingLocation\"].value_counts()"
   ]
  },
  {
   "cell_type": "markdown",
   "id": "f43db748",
   "metadata": {},
   "source": [
    "###### or"
   ]
  },
  {
   "cell_type": "code",
   "execution_count": 148,
   "id": "7acc235d",
   "metadata": {},
   "outputs": [],
   "source": [
    "data[\"WorkingLocation\"].fillna(data[\"WorkingLocation\"].mode()[0],inplace=True)"
   ]
  },
  {
   "cell_type": "code",
   "execution_count": 149,
   "id": "690ec9b2",
   "metadata": {},
   "outputs": [
    {
     "data": {
      "text/plain": [
       "0"
      ]
     },
     "execution_count": 149,
     "metadata": {},
     "output_type": "execute_result"
    }
   ],
   "source": [
    "data[\"WorkingLocation\"].isnull().sum()"
   ]
  },
  {
   "cell_type": "code",
   "execution_count": 150,
   "id": "5ad97441",
   "metadata": {},
   "outputs": [
    {
     "data": {
      "text/plain": [
       "array(['Office', 'Home', 'Other place, such as a coworking space or cafe'],\n",
       "      dtype=object)"
      ]
     },
     "execution_count": 150,
     "metadata": {},
     "output_type": "execute_result"
    }
   ],
   "source": [
    "data[\"WorkingLocation\"].unique()"
   ]
  },
  {
   "cell_type": "code",
   "execution_count": 151,
   "id": "1683c772",
   "metadata": {},
   "outputs": [
    {
     "data": {
      "text/plain": [
       "Office                                            28072\n",
       "Home                                              16133\n",
       "Other place, such as a coworking space or cafe     4056\n",
       "Name: WorkingLocation, dtype: int64"
      ]
     },
     "execution_count": 151,
     "metadata": {},
     "output_type": "execute_result"
    }
   ],
   "source": [
    "data[\"WorkingLocation\"].value_counts()"
   ]
  },
  {
   "cell_type": "markdown",
   "id": "fe57d851",
   "metadata": {},
   "source": [
    "### Q6-If developer started his coding less than 10 years of age and if they are not getting any combensation give them 1 Lakh"
   ]
  },
  {
   "cell_type": "code",
   "execution_count": 91,
   "id": "b4ae1e09",
   "metadata": {},
   "outputs": [],
   "source": [
    "data=survey.copy()"
   ]
  },
  {
   "cell_type": "code",
   "execution_count": 96,
   "id": "78414c54",
   "metadata": {},
   "outputs": [
    {
     "data": {
      "text/plain": [
       "array(['10', '17', '22', '16', '14', '15', '11', '20', '13', '18', '12',\n",
       "       '19', '21', '8', '35', '6', '9', '29', '7', '5', '23', '30', nan,\n",
       "       '27', '24', 'Younger than 5 years', '33', '25', '26', '39', '36',\n",
       "       '38', '28', '31', 'Older than 85', '32', '37', '50', '65', '42',\n",
       "       '34', '40', '67', '43', '44', '60', '46', '45', '49', '51', '41',\n",
       "       '55', '83', '48', '53', '54', '47', '56', '79', '61', '68', '77',\n",
       "       '66', '52', '80', '62', '84', '57', '58', '63'], dtype=object)"
      ]
     },
     "execution_count": 96,
     "metadata": {},
     "output_type": "execute_result"
    }
   ],
   "source": [
    "data[\"1stAgeCode\"].unique()"
   ]
  },
  {
   "cell_type": "code",
   "execution_count": 97,
   "id": "86e6b40f",
   "metadata": {
    "collapsed": true
   },
   "outputs": [
    {
     "data": {
      "text/plain": [
       "Respondent\n",
       "1         10\n",
       "2         17\n",
       "3         22\n",
       "4         16\n",
       "5         14\n",
       "        ... \n",
       "88377    NaN\n",
       "88601    NaN\n",
       "88802    NaN\n",
       "88816    NaN\n",
       "88863     11\n",
       "Name: 1stAgeCode, Length: 88883, dtype: object"
      ]
     },
     "execution_count": 97,
     "metadata": {},
     "output_type": "execute_result"
    }
   ],
   "source": [
    "data[\"1stAgeCode\"]"
   ]
  },
  {
   "cell_type": "code",
   "execution_count": 98,
   "id": "1579feb3",
   "metadata": {},
   "outputs": [],
   "source": [
    "data[\"1stAgeCode\"].replace(\"Younger than 5 years\",5,inplace=True)\n",
    "data[\"1stAgeCode\"].replace(\"Older than 85\",86,inplace=True)\n"
   ]
  },
  {
   "cell_type": "code",
   "execution_count": 99,
   "id": "1f2c9cae",
   "metadata": {
    "collapsed": true
   },
   "outputs": [
    {
     "data": {
      "text/plain": [
       "Respondent\n",
       "1         10\n",
       "2         17\n",
       "3         22\n",
       "4         16\n",
       "5         14\n",
       "        ... \n",
       "88377    NaN\n",
       "88601    NaN\n",
       "88802    NaN\n",
       "88816    NaN\n",
       "88863     11\n",
       "Name: 1stAgeCode, Length: 88883, dtype: object"
      ]
     },
     "execution_count": 99,
     "metadata": {},
     "output_type": "execute_result"
    }
   ],
   "source": [
    "data[\"1stAgeCode\"]"
   ]
  },
  {
   "cell_type": "code",
   "execution_count": 100,
   "id": "ef47c6ab",
   "metadata": {},
   "outputs": [],
   "source": [
    "data[\"1stAgeCode\"].fillna(data[\"1stAgeCode\"].mode()[0],inplace=True)"
   ]
  },
  {
   "cell_type": "code",
   "execution_count": 101,
   "id": "1ab5c65d",
   "metadata": {},
   "outputs": [
    {
     "data": {
      "text/plain": [
       "dtype('O')"
      ]
     },
     "execution_count": 101,
     "metadata": {},
     "output_type": "execute_result"
    }
   ],
   "source": [
    "data[\"1stAgeCode\"].dtypes"
   ]
  },
  {
   "cell_type": "code",
   "execution_count": 102,
   "id": "9cf2c41f",
   "metadata": {},
   "outputs": [
    {
     "data": {
      "text/plain": [
       "Respondent\n",
       "1        10\n",
       "2        17\n",
       "3        22\n",
       "4        16\n",
       "5        14\n",
       "         ..\n",
       "88377    15\n",
       "88601    15\n",
       "88802    15\n",
       "88816    15\n",
       "88863    11\n",
       "Name: 1stAgeCode, Length: 88883, dtype: int64"
      ]
     },
     "execution_count": 102,
     "metadata": {},
     "output_type": "execute_result"
    }
   ],
   "source": [
    "data[\"1stAgeCode\"].astype(\"int64\")"
   ]
  },
  {
   "cell_type": "code",
   "execution_count": 103,
   "id": "8af7c202",
   "metadata": {},
   "outputs": [],
   "source": [
    "data[\"1stAgeCode\"]=data[\"1stAgeCode\"].astype(\"int64\")"
   ]
  },
  {
   "cell_type": "code",
   "execution_count": 104,
   "id": "e763810f",
   "metadata": {},
   "outputs": [
    {
     "data": {
      "text/plain": [
       "array([10, 17, 22, 16, 14, 15, 11, 20, 13, 18, 12, 19, 21,  8, 35,  6,  9,\n",
       "       29,  7,  5, 23, 30, 27, 24, 33, 25, 26, 39, 36, 38, 28, 31, 86, 32,\n",
       "       37, 50, 65, 42, 34, 40, 67, 43, 44, 60, 46, 45, 49, 51, 41, 55, 83,\n",
       "       48, 53, 54, 47, 56, 79, 61, 68, 77, 66, 52, 80, 62, 84, 57, 58, 63],\n",
       "      dtype=int64)"
      ]
     },
     "execution_count": 104,
     "metadata": {},
     "output_type": "execute_result"
    }
   ],
   "source": [
    "data[\"1stAgeCode\"].unique()"
   ]
  },
  {
   "cell_type": "code",
   "execution_count": 106,
   "id": "0abcd514",
   "metadata": {},
   "outputs": [
    {
     "data": {
      "text/html": [
       "<div>\n",
       "<style scoped>\n",
       "    .dataframe tbody tr th:only-of-type {\n",
       "        vertical-align: middle;\n",
       "    }\n",
       "\n",
       "    .dataframe tbody tr th {\n",
       "        vertical-align: top;\n",
       "    }\n",
       "\n",
       "    .dataframe thead th {\n",
       "        text-align: right;\n",
       "    }\n",
       "</style>\n",
       "<table border=\"1\" class=\"dataframe\">\n",
       "  <thead>\n",
       "    <tr style=\"text-align: right;\">\n",
       "      <th></th>\n",
       "      <th>Salary</th>\n",
       "      <th>1stAgeCode</th>\n",
       "    </tr>\n",
       "    <tr>\n",
       "      <th>Respondent</th>\n",
       "      <th></th>\n",
       "      <th></th>\n",
       "    </tr>\n",
       "  </thead>\n",
       "  <tbody>\n",
       "    <tr>\n",
       "      <th>26</th>\n",
       "      <td>114000.0</td>\n",
       "      <td>8</td>\n",
       "    </tr>\n",
       "    <tr>\n",
       "      <th>39</th>\n",
       "      <td>156000.0</td>\n",
       "      <td>6</td>\n",
       "    </tr>\n",
       "    <tr>\n",
       "      <th>51</th>\n",
       "      <td>NaN</td>\n",
       "      <td>9</td>\n",
       "    </tr>\n",
       "    <tr>\n",
       "      <th>52</th>\n",
       "      <td>39504.0</td>\n",
       "      <td>8</td>\n",
       "    </tr>\n",
       "    <tr>\n",
       "      <th>63</th>\n",
       "      <td>NaN</td>\n",
       "      <td>7</td>\n",
       "    </tr>\n",
       "    <tr>\n",
       "      <th>...</th>\n",
       "      <td>...</td>\n",
       "      <td>...</td>\n",
       "    </tr>\n",
       "    <tr>\n",
       "      <th>85642</th>\n",
       "      <td>NaN</td>\n",
       "      <td>7</td>\n",
       "    </tr>\n",
       "    <tr>\n",
       "      <th>85738</th>\n",
       "      <td>NaN</td>\n",
       "      <td>5</td>\n",
       "    </tr>\n",
       "    <tr>\n",
       "      <th>85955</th>\n",
       "      <td>NaN</td>\n",
       "      <td>9</td>\n",
       "    </tr>\n",
       "    <tr>\n",
       "      <th>88182</th>\n",
       "      <td>NaN</td>\n",
       "      <td>5</td>\n",
       "    </tr>\n",
       "    <tr>\n",
       "      <th>88212</th>\n",
       "      <td>NaN</td>\n",
       "      <td>7</td>\n",
       "    </tr>\n",
       "  </tbody>\n",
       "</table>\n",
       "<p>7661 rows × 2 columns</p>\n",
       "</div>"
      ],
      "text/plain": [
       "              Salary  1stAgeCode\n",
       "Respondent                      \n",
       "26          114000.0           8\n",
       "39          156000.0           6\n",
       "51               NaN           9\n",
       "52           39504.0           8\n",
       "63               NaN           7\n",
       "...              ...         ...\n",
       "85642            NaN           7\n",
       "85738            NaN           5\n",
       "85955            NaN           9\n",
       "88182            NaN           5\n",
       "88212            NaN           7\n",
       "\n",
       "[7661 rows x 2 columns]"
      ]
     },
     "execution_count": 106,
     "metadata": {},
     "output_type": "execute_result"
    }
   ],
   "source": [
    "data_less=data.loc[data[\"1stAgeCode\"]<10,[\"Salary\",\"1stAgeCode\"]]\n",
    "data_less"
   ]
  },
  {
   "cell_type": "code",
   "execution_count": 109,
   "id": "f0259723",
   "metadata": {},
   "outputs": [],
   "source": [
    "final_less=data_less[\"Salary\"].fillna(100000)"
   ]
  },
  {
   "cell_type": "code",
   "execution_count": 110,
   "id": "e75a806d",
   "metadata": {},
   "outputs": [
    {
     "data": {
      "text/plain": [
       "0"
      ]
     },
     "execution_count": 110,
     "metadata": {},
     "output_type": "execute_result"
    }
   ],
   "source": [
    "final_less.isnull().sum()"
   ]
  },
  {
   "cell_type": "code",
   "execution_count": 111,
   "id": "2a7fa28b",
   "metadata": {},
   "outputs": [
    {
     "data": {
      "text/plain": [
       "Respondent\n",
       "26       114000.0\n",
       "39       156000.0\n",
       "51       100000.0\n",
       "52        39504.0\n",
       "63       100000.0\n",
       "           ...   \n",
       "85642    100000.0\n",
       "85738    100000.0\n",
       "85955    100000.0\n",
       "88182    100000.0\n",
       "88212    100000.0\n",
       "Name: Salary, Length: 7661, dtype: float64"
      ]
     },
     "execution_count": 111,
     "metadata": {},
     "output_type": "execute_result"
    }
   ],
   "source": [
    "data_less[\"Salary\"].replace(0,100000)"
   ]
  },
  {
   "cell_type": "code",
   "execution_count": 121,
   "id": "8003954e",
   "metadata": {},
   "outputs": [
    {
     "data": {
      "text/plain": [
       "100000.0     2962\n",
       "1000000.0      81\n",
       "2000000.0      62\n",
       "120000.0       60\n",
       "150000.0       56\n",
       "             ... \n",
       "591204.0        1\n",
       "23748.0         1\n",
       "42198.0         1\n",
       "26721.0         1\n",
       "64130.0         1\n",
       "Name: Salary, Length: 1942, dtype: int64"
      ]
     },
     "execution_count": 121,
     "metadata": {},
     "output_type": "execute_result"
    }
   ],
   "source": [
    "(data_less[\"Salary\"].replace(0,100000)).value_counts()"
   ]
  },
  {
   "cell_type": "code",
   "execution_count": null,
   "id": "5f1da305",
   "metadata": {},
   "outputs": [],
   "source": []
  },
  {
   "cell_type": "code",
   "execution_count": null,
   "id": "ec20f07a",
   "metadata": {},
   "outputs": [],
   "source": []
  },
  {
   "cell_type": "code",
   "execution_count": null,
   "id": "d63034a2",
   "metadata": {},
   "outputs": [],
   "source": []
  },
  {
   "cell_type": "code",
   "execution_count": 21,
   "id": "402f2a59",
   "metadata": {},
   "outputs": [
    {
     "data": {
      "text/plain": [
       "'How many years have you coded professionally (as a part of your work)?'"
      ]
     },
     "execution_count": 21,
     "metadata": {},
     "output_type": "execute_result"
    }
   ],
   "source": [
    "schema.loc[\"YearsCodePro\",\"QuestionText\"]"
   ]
  },
  {
   "cell_type": "code",
   "execution_count": 22,
   "id": "847a259b",
   "metadata": {},
   "outputs": [
    {
     "data": {
      "text/plain": [
       "'At what age did you write your first line of code or program? (E.g., webpage, Hello World, Scratch project)'"
      ]
     },
     "execution_count": 22,
     "metadata": {},
     "output_type": "execute_result"
    }
   ],
   "source": [
    "schema.loc[\"Age1stCode\",\"QuestionText\"]"
   ]
  },
  {
   "cell_type": "markdown",
   "id": "ec7bc89a",
   "metadata": {},
   "source": [
    "### Q7-Fill nan of job satisfaction with the condition of most developers"
   ]
  },
  {
   "cell_type": "code",
   "execution_count": 43,
   "id": "ba976939",
   "metadata": {},
   "outputs": [
    {
     "data": {
      "text/plain": [
       "array([nan, 'Slightly satisfied', 'Slightly dissatisfied',\n",
       "       'Neither satisfied nor dissatisfied', 'Very satisfied',\n",
       "       'Very dissatisfied'], dtype=object)"
      ]
     },
     "execution_count": 43,
     "metadata": {},
     "output_type": "execute_result"
    }
   ],
   "source": [
    "data[\"JobSat\"].unique()"
   ]
  },
  {
   "cell_type": "code",
   "execution_count": 44,
   "id": "16f16679",
   "metadata": {},
   "outputs": [
    {
     "data": {
      "text/plain": [
       "Slightly satisfied                    24207\n",
       "Very satisfied                        22452\n",
       "Slightly dissatisfied                 10752\n",
       "Neither satisfied nor dissatisfied     8720\n",
       "Very dissatisfied                      4857\n",
       "Name: JobSat, dtype: int64"
      ]
     },
     "execution_count": 44,
     "metadata": {},
     "output_type": "execute_result"
    }
   ],
   "source": [
    "data[\"JobSat\"].value_counts()"
   ]
  },
  {
   "cell_type": "code",
   "execution_count": 46,
   "id": "625bcdf5",
   "metadata": {},
   "outputs": [],
   "source": [
    "data[\"JobSat\"].fillna(data[\"JobSat\"].mode()[0],inplace=True)"
   ]
  },
  {
   "cell_type": "code",
   "execution_count": 47,
   "id": "a054f047",
   "metadata": {},
   "outputs": [
    {
     "data": {
      "text/plain": [
       "array(['Slightly satisfied', 'Slightly dissatisfied',\n",
       "       'Neither satisfied nor dissatisfied', 'Very satisfied',\n",
       "       'Very dissatisfied'], dtype=object)"
      ]
     },
     "execution_count": 47,
     "metadata": {},
     "output_type": "execute_result"
    }
   ],
   "source": [
    "data[\"JobSat\"].unique()"
   ]
  },
  {
   "cell_type": "code",
   "execution_count": 48,
   "id": "b4ecf7a9",
   "metadata": {},
   "outputs": [
    {
     "data": {
      "text/plain": [
       "Slightly satisfied                    42102\n",
       "Very satisfied                        22452\n",
       "Slightly dissatisfied                 10752\n",
       "Neither satisfied nor dissatisfied     8720\n",
       "Very dissatisfied                      4857\n",
       "Name: JobSat, dtype: int64"
      ]
     },
     "execution_count": 48,
     "metadata": {},
     "output_type": "execute_result"
    }
   ],
   "source": [
    "data[\"JobSat\"].value_counts()"
   ]
  },
  {
   "cell_type": "markdown",
   "id": "2cfb3b2a",
   "metadata": {},
   "source": [
    "### Q8-Change data type of YearsCode into float64 (do all the required operations)"
   ]
  },
  {
   "cell_type": "code",
   "execution_count": null,
   "id": "4299a64e",
   "metadata": {},
   "outputs": [],
   "source": [
    "data=survey.copy()"
   ]
  },
  {
   "cell_type": "code",
   "execution_count": null,
   "id": "3750bf74",
   "metadata": {},
   "outputs": [],
   "source": [
    "data"
   ]
  },
  {
   "cell_type": "code",
   "execution_count": 124,
   "id": "30c6dec0",
   "metadata": {
    "collapsed": true
   },
   "outputs": [
    {
     "data": {
      "text/plain": [
       "10                    4896\n",
       "5                     3930\n",
       "6                     3847\n",
       "8                     3700\n",
       "7                     3495\n",
       "15                    3016\n",
       "4                     2723\n",
       "20                    2714\n",
       "12                    2666\n",
       "9                     2403\n",
       "3                     2129\n",
       "11                    1723\n",
       "14                    1636\n",
       "13                    1574\n",
       "18                    1466\n",
       "2                     1315\n",
       "16                    1246\n",
       "25                    1183\n",
       "17                    1086\n",
       "30                    1040\n",
       "22                     811\n",
       "19                     788\n",
       "35                     593\n",
       "23                     567\n",
       "21                     556\n",
       "24                     496\n",
       "1                      429\n",
       "28                     335\n",
       "40                     315\n",
       "26                     310\n",
       "27                     308\n",
       "32                     294\n",
       "33                     243\n",
       "37                     241\n",
       "38                     230\n",
       "34                     221\n",
       "36                     212\n",
       "Less than 1 year       192\n",
       "29                     170\n",
       "31                     148\n",
       "39                     117\n",
       "42                      75\n",
       "41                      58\n",
       "45                      56\n",
       "43                      52\n",
       "44                      36\n",
       "More than 50 years      24\n",
       "48                      17\n",
       "47                      16\n",
       "50                      16\n",
       "49                      12\n",
       "46                      11\n",
       "Name: YearsCode, dtype: int64"
      ]
     },
     "execution_count": 124,
     "metadata": {},
     "output_type": "execute_result"
    }
   ],
   "source": [
    "data[\"YearsCode\"].value_counts()"
   ]
  },
  {
   "cell_type": "code",
   "execution_count": 125,
   "id": "4e4b5ce4",
   "metadata": {},
   "outputs": [
    {
     "data": {
      "text/plain": [
       "array(['3', '13', '12', '17', '10', '5', '14', '8', '35', '2', '4', '6',\n",
       "       '30', '9', '26', '40', '15', '7', '20', '28', '25', '1', '22',\n",
       "       '16', '11', '33', '50', '18', '34', '19', '24', '23', '42', '27',\n",
       "       '21', '36', 'Less than 1 year', '32', '39', '38', nan, '31', '29',\n",
       "       '37', '41', '44', '48', '45', '43', '47', '46', '49',\n",
       "       'More than 50 years'], dtype=object)"
      ]
     },
     "execution_count": 125,
     "metadata": {},
     "output_type": "execute_result"
    }
   ],
   "source": [
    "data[\"YearsCode\"].unique()"
   ]
  },
  {
   "cell_type": "code",
   "execution_count": 126,
   "id": "4ac9e026",
   "metadata": {},
   "outputs": [],
   "source": [
    "data.replace(\"Less than 1 year\",1,inplace=True)"
   ]
  },
  {
   "cell_type": "code",
   "execution_count": 127,
   "id": "d99744b9",
   "metadata": {},
   "outputs": [],
   "source": [
    "data.replace(\"More than 50 years\",1,inplace=True)"
   ]
  },
  {
   "cell_type": "code",
   "execution_count": 128,
   "id": "cae5dae8",
   "metadata": {},
   "outputs": [
    {
     "data": {
      "text/plain": [
       "array(['3', '13', '12', '17', '10', '5', '14', '8', '35', '2', '4', '6',\n",
       "       '30', '9', '26', '40', '15', '7', '20', '28', '25', '1', '22',\n",
       "       '16', '11', '33', '50', '18', '34', '19', '24', '23', '42', '27',\n",
       "       '21', '36', 1, '32', '39', '38', nan, '31', '29', '37', '41', '44',\n",
       "       '48', '45', '43', '47', '46', '49'], dtype=object)"
      ]
     },
     "execution_count": 128,
     "metadata": {},
     "output_type": "execute_result"
    }
   ],
   "source": [
    "data[\"YearsCode\"].unique()"
   ]
  },
  {
   "cell_type": "code",
   "execution_count": 129,
   "id": "6a43c717",
   "metadata": {},
   "outputs": [
    {
     "data": {
      "text/plain": [
       "86"
      ]
     },
     "execution_count": 129,
     "metadata": {},
     "output_type": "execute_result"
    }
   ],
   "source": [
    "data[\"YearsCode\"].isnull().sum()"
   ]
  },
  {
   "cell_type": "code",
   "execution_count": 130,
   "id": "b934f317",
   "metadata": {},
   "outputs": [],
   "source": [
    "data[\"YearsCode\"].fillna(data[\"YearsCode\"].mode()[0],inplace=True)"
   ]
  },
  {
   "cell_type": "code",
   "execution_count": 131,
   "id": "7349a97a",
   "metadata": {
    "collapsed": true
   },
   "outputs": [
    {
     "data": {
      "text/plain": [
       "Respondent\n",
       "3         3\n",
       "4         3\n",
       "6        13\n",
       "9        12\n",
       "10       12\n",
       "         ..\n",
       "88878    12\n",
       "88879    17\n",
       "88881    18\n",
       "88882    10\n",
       "88883     9\n",
       "Name: YearsCode, Length: 55823, dtype: object"
      ]
     },
     "execution_count": 131,
     "metadata": {},
     "output_type": "execute_result"
    }
   ],
   "source": [
    "data[\"YearsCode\"]"
   ]
  },
  {
   "cell_type": "code",
   "execution_count": 132,
   "id": "7c0f1103",
   "metadata": {},
   "outputs": [
    {
     "data": {
      "text/plain": [
       "dtype('O')"
      ]
     },
     "execution_count": 132,
     "metadata": {},
     "output_type": "execute_result"
    }
   ],
   "source": [
    "data[\"YearsCode\"].dtypes"
   ]
  },
  {
   "cell_type": "code",
   "execution_count": 133,
   "id": "eaf45d3e",
   "metadata": {},
   "outputs": [],
   "source": [
    "newdata=data[\"YearsCode\"].astype(\"float64\")"
   ]
  },
  {
   "cell_type": "code",
   "execution_count": 134,
   "id": "3b644c5c",
   "metadata": {},
   "outputs": [
    {
     "data": {
      "text/plain": [
       "dtype('float64')"
      ]
     },
     "execution_count": 134,
     "metadata": {},
     "output_type": "execute_result"
    }
   ],
   "source": [
    "newdata.dtypes"
   ]
  },
  {
   "cell_type": "markdown",
   "id": "e9b248a2",
   "metadata": {},
   "source": [
    "### Q9-Drop nan values of Ethnicity and Sexuality in a single operation"
   ]
  },
  {
   "cell_type": "code",
   "execution_count": 135,
   "id": "8ce993ef",
   "metadata": {
    "collapsed": true
   },
   "outputs": [
    {
     "data": {
      "text/plain": [
       "array([nan, 'White or of European descent', 'East Asian',\n",
       "       'Hispanic or Latino/Latina;Multiracial',\n",
       "       'Hispanic or Latino/Latina', 'Black or of African descent',\n",
       "       'Middle Eastern', 'South Asian', 'Multiracial',\n",
       "       'East Asian;South Asian',\n",
       "       'Native American, Pacific Islander, or Indigenous Australian;White or of European descent',\n",
       "       'Middle Eastern;White or of European descent',\n",
       "       'Native American, Pacific Islander, or Indigenous Australian',\n",
       "       'Black or of African descent;White or of European descent',\n",
       "       'White or of European descent;Biracial;Multiracial',\n",
       "       'Hispanic or Latino/Latina;White or of European descent',\n",
       "       'Black or of African descent;White or of European descent;Biracial',\n",
       "       'East Asian;White or of European descent;Biracial',\n",
       "       'Black or of African descent;Hispanic or Latino/Latina;Native American, Pacific Islander, or Indigenous Australian;White or of European descent;Multiracial',\n",
       "       'Hispanic or Latino/Latina;White or of European descent;Biracial',\n",
       "       'East Asian;Native American, Pacific Islander, or Indigenous Australian;White or of European descent;Multiracial',\n",
       "       'Biracial', 'South Asian;White or of European descent;Multiracial',\n",
       "       'South Asian;Biracial', 'Middle Eastern;South Asian',\n",
       "       'White or of European descent;Multiracial',\n",
       "       'Hispanic or Latino/Latina;White or of European descent;Multiracial',\n",
       "       'Black or of African descent;Hispanic or Latino/Latina',\n",
       "       'East Asian;Hispanic or Latino/Latina;White or of European descent',\n",
       "       'White or of European descent;Biracial',\n",
       "       'East Asian;White or of European descent;Multiracial',\n",
       "       'South Asian;White or of European descent;Biracial',\n",
       "       'East Asian;South Asian;White or of European descent;Multiracial',\n",
       "       'Native American, Pacific Islander, or Indigenous Australian;White or of European descent;Multiracial',\n",
       "       'Black or of African descent;White or of European descent;Multiracial',\n",
       "       'Black or of African descent;Hispanic or Latino/Latina;White or of European descent',\n",
       "       'Hispanic or Latino/Latina;Middle Eastern;White or of European descent',\n",
       "       'Hispanic or Latino/Latina;Biracial',\n",
       "       'Hispanic or Latino/Latina;South Asian;Multiracial',\n",
       "       'Black or of African descent;Hispanic or Latino/Latina;Native American, Pacific Islander, or Indigenous Australian;Multiracial',\n",
       "       'East Asian;Middle Eastern',\n",
       "       'Native American, Pacific Islander, or Indigenous Australian;White or of European descent;Biracial',\n",
       "       'Black or of African descent;Multiracial',\n",
       "       'East Asian;White or of European descent',\n",
       "       'Middle Eastern;White or of European descent;Biracial',\n",
       "       'East Asian;Middle Eastern;South Asian', 'East Asian;Biracial',\n",
       "       'Middle Eastern;White or of European descent;Multiracial',\n",
       "       'Black or of African descent;Biracial',\n",
       "       'Black or of African descent;East Asian;Hispanic or Latino/Latina;Middle Eastern;Native American, Pacific Islander, or Indigenous Australian;South Asian;White or of European descent;Biracial;Multiracial',\n",
       "       'Black or of African descent;Middle Eastern',\n",
       "       'Black or of African descent;Hispanic or Latino/Latina;White or of European descent;Multiracial',\n",
       "       'Black or of African descent;South Asian;Multiracial',\n",
       "       'East Asian;Hispanic or Latino/Latina', 'South Asian;Multiracial',\n",
       "       'Black or of African descent;Hispanic or Latino/Latina;Multiracial',\n",
       "       'South Asian;White or of European descent',\n",
       "       'Black or of African descent;East Asian',\n",
       "       'Native American, Pacific Islander, or Indigenous Australian;South Asian;White or of European descent;Biracial',\n",
       "       'East Asian;Biracial;Multiracial',\n",
       "       'Native American, Pacific Islander, or Indigenous Australian;South Asian',\n",
       "       'Middle Eastern;Native American, Pacific Islander, or Indigenous Australian;White or of European descent;Multiracial',\n",
       "       'Middle Eastern;Biracial', 'East Asian;Multiracial',\n",
       "       'Hispanic or Latino/Latina;Native American, Pacific Islander, or Indigenous Australian;South Asian;White or of European descent;Multiracial',\n",
       "       'Hispanic or Latino/Latina;Biracial;Multiracial',\n",
       "       'Black or of African descent;South Asian',\n",
       "       'Black or of African descent;East Asian;White or of European descent;Multiracial',\n",
       "       'Hispanic or Latino/Latina;White or of European descent;Biracial;Multiracial',\n",
       "       'Hispanic or Latino/Latina;Native American, Pacific Islander, or Indigenous Australian;White or of European descent;Multiracial',\n",
       "       'Black or of African descent;White or of European descent;Biracial;Multiracial',\n",
       "       'East Asian;White or of European descent;Biracial;Multiracial',\n",
       "       'East Asian;Hispanic or Latino/Latina;South Asian',\n",
       "       'East Asian;Middle Eastern;White or of European descent;Biracial',\n",
       "       'Black or of African descent;Native American, Pacific Islander, or Indigenous Australian;White or of European descent;Multiracial',\n",
       "       'Hispanic or Latino/Latina;Native American, Pacific Islander, or Indigenous Australian',\n",
       "       'Black or of African descent;Native American, Pacific Islander, or Indigenous Australian',\n",
       "       'Black or of African descent;Biracial;Multiracial',\n",
       "       'Black or of African descent;East Asian;Hispanic or Latino/Latina;Biracial',\n",
       "       'Black or of African descent;Middle Eastern;Multiracial',\n",
       "       'East Asian;Native American, Pacific Islander, or Indigenous Australian',\n",
       "       'Black or of African descent;Hispanic or Latino/Latina;Biracial',\n",
       "       'Black or of African descent;Middle Eastern;White or of European descent',\n",
       "       'Hispanic or Latino/Latina;Middle Eastern',\n",
       "       'East Asian;Native American, Pacific Islander, or Indigenous Australian;South Asian',\n",
       "       'Black or of African descent;Middle Eastern;Biracial',\n",
       "       'Hispanic or Latino/Latina;Native American, Pacific Islander, or Indigenous Australian;White or of European descent',\n",
       "       'Black or of African descent;Hispanic or Latino/Latina;Middle Eastern;Multiracial',\n",
       "       'Hispanic or Latino/Latina;Native American, Pacific Islander, or Indigenous Australian;Multiracial',\n",
       "       'East Asian;Middle Eastern;South Asian;White or of European descent',\n",
       "       'East Asian;Middle Eastern;White or of European descent;Multiracial',\n",
       "       'Biracial;Multiracial', 'Middle Eastern;Multiracial',\n",
       "       'Hispanic or Latino/Latina;Middle Eastern;White or of European descent;Multiracial',\n",
       "       'Hispanic or Latino/Latina;Middle Eastern;Biracial',\n",
       "       'East Asian;Middle Eastern;White or of European descent',\n",
       "       'East Asian;Middle Eastern;Native American, Pacific Islander, or Indigenous Australian;South Asian;White or of European descent',\n",
       "       'South Asian;White or of European descent;Biracial;Multiracial',\n",
       "       'Black or of African descent;East Asian;Native American, Pacific Islander, or Indigenous Australian;White or of European descent',\n",
       "       'Black or of African descent;Native American, Pacific Islander, or Indigenous Australian;South Asian',\n",
       "       'Black or of African descent;South Asian;White or of European descent',\n",
       "       'Hispanic or Latino/Latina;Native American, Pacific Islander, or Indigenous Australian;South Asian;Biracial',\n",
       "       'Black or of African descent;East Asian;Hispanic or Latino/Latina;Middle Eastern;Native American, Pacific Islander, or Indigenous Australian;South Asian;White or of European descent',\n",
       "       'East Asian;South Asian;Biracial',\n",
       "       'East Asian;Native American, Pacific Islander, or Indigenous Australian;White or of European descent',\n",
       "       'East Asian;South Asian;Multiracial',\n",
       "       'Hispanic or Latino/Latina;South Asian;White or of European descent',\n",
       "       'Middle Eastern;Native American, Pacific Islander, or Indigenous Australian;White or of European descent',\n",
       "       'East Asian;Hispanic or Latino/Latina;Biracial',\n",
       "       'East Asian;South Asian;White or of European descent',\n",
       "       'Black or of African descent;Hispanic or Latino/Latina;Middle Eastern;Biracial',\n",
       "       'Black or of African descent;Hispanic or Latino/Latina;Native American, Pacific Islander, or Indigenous Australian;White or of European descent',\n",
       "       'Native American, Pacific Islander, or Indigenous Australian;White or of European descent;Biracial;Multiracial',\n",
       "       'East Asian;South Asian;Biracial;Multiracial',\n",
       "       'Middle Eastern;South Asian;Multiracial',\n",
       "       'Black or of African descent;Middle Eastern;Biracial;Multiracial',\n",
       "       'East Asian;Native American, Pacific Islander, or Indigenous Australian;Multiracial',\n",
       "       'Native American, Pacific Islander, or Indigenous Australian;Biracial;Multiracial',\n",
       "       'Hispanic or Latino/Latina;South Asian',\n",
       "       'East Asian;South Asian;White or of European descent;Biracial;Multiracial',\n",
       "       'Hispanic or Latino/Latina;Native American, Pacific Islander, or Indigenous Australian;White or of European descent;Biracial;Multiracial',\n",
       "       'Middle Eastern;South Asian;Biracial',\n",
       "       'Black or of African descent;Hispanic or Latino/Latina;White or of European descent;Biracial;Multiracial',\n",
       "       'Hispanic or Latino/Latina;South Asian;White or of European descent;Multiracial',\n",
       "       'Hispanic or Latino/Latina;South Asian;Biracial',\n",
       "       'East Asian;Hispanic or Latino/Latina;White or of European descent;Multiracial',\n",
       "       'East Asian;Middle Eastern;Multiracial',\n",
       "       'Black or of African descent;East Asian;Native American, Pacific Islander, or Indigenous Australian;South Asian;White or of European descent;Multiracial',\n",
       "       'Black or of African descent;East Asian;Biracial',\n",
       "       'Black or of African descent;East Asian;Native American, Pacific Islander, or Indigenous Australian;White or of European descent;Multiracial',\n",
       "       'Native American, Pacific Islander, or Indigenous Australian;Multiracial',\n",
       "       'Hispanic or Latino/Latina;Middle Eastern;Native American, Pacific Islander, or Indigenous Australian;White or of European descent;Multiracial',\n",
       "       'East Asian;Middle Eastern;South Asian;Multiracial',\n",
       "       'Black or of African descent;East Asian;Hispanic or Latino/Latina;Middle Eastern;Native American, Pacific Islander, or Indigenous Australian;South Asian;Biracial;Multiracial',\n",
       "       'Black or of African descent;East Asian;Hispanic or Latino/Latina;Middle Eastern;South Asian;White or of European descent;Biracial;Multiracial',\n",
       "       'Black or of African descent;East Asian;Middle Eastern;White or of European descent;Biracial;Multiracial',\n",
       "       'Hispanic or Latino/Latina;Middle Eastern;White or of European descent;Biracial',\n",
       "       'Black or of African descent;Middle Eastern;South Asian',\n",
       "       'East Asian;Native American, Pacific Islander, or Indigenous Australian;Biracial;Multiracial',\n",
       "       'East Asian;Hispanic or Latino/Latina;Native American, Pacific Islander, or Indigenous Australian;White or of European descent',\n",
       "       'South Asian;Biracial;Multiracial',\n",
       "       'East Asian;Hispanic or Latino/Latina;Multiracial',\n",
       "       'Black or of African descent;Hispanic or Latino/Latina;South Asian',\n",
       "       'Black or of African descent;East Asian;Hispanic or Latino/Latina;Middle Eastern;Native American, Pacific Islander, or Indigenous Australian;South Asian;White or of European descent;Multiracial',\n",
       "       'Native American, Pacific Islander, or Indigenous Australian;South Asian;White or of European descent;Multiracial',\n",
       "       'Black or of African descent;South Asian;White or of European descent;Multiracial',\n",
       "       'Hispanic or Latino/Latina;Middle Eastern;Multiracial',\n",
       "       'East Asian;Middle Eastern;Native American, Pacific Islander, or Indigenous Australian',\n",
       "       'Black or of African descent;East Asian;Multiracial',\n",
       "       'Middle Eastern;White or of European descent;Biracial;Multiracial',\n",
       "       'East Asian;Middle Eastern;South Asian;White or of European descent;Multiracial',\n",
       "       'Black or of African descent;East Asian;South Asian',\n",
       "       'Black or of African descent;Hispanic or Latino/Latina;Biracial;Multiracial',\n",
       "       'Hispanic or Latino/Latina;Native American, Pacific Islander, or Indigenous Australian;Biracial',\n",
       "       'Black or of African descent;East Asian;Middle Eastern;Native American, Pacific Islander, or Indigenous Australian;White or of European descent;Multiracial',\n",
       "       'Hispanic or Latino/Latina;Native American, Pacific Islander, or Indigenous Australian;South Asian;White or of European descent;Biracial;Multiracial',\n",
       "       'Middle Eastern;South Asian;White or of European descent',\n",
       "       'Hispanic or Latino/Latina;Native American, Pacific Islander, or Indigenous Australian;South Asian;White or of European descent',\n",
       "       'Black or of African descent;South Asian;Biracial',\n",
       "       'East Asian;Hispanic or Latino/Latina;Native American, Pacific Islander, or Indigenous Australian;South Asian',\n",
       "       'East Asian;South Asian;White or of European descent;Biracial'],\n",
       "      dtype=object)"
      ]
     },
     "execution_count": 135,
     "metadata": {},
     "output_type": "execute_result"
    }
   ],
   "source": [
    "data[\"Ethnicity\"].unique()"
   ]
  },
  {
   "cell_type": "code",
   "execution_count": 136,
   "id": "8b899401",
   "metadata": {},
   "outputs": [
    {
     "data": {
      "text/plain": [
       "4701"
      ]
     },
     "execution_count": 136,
     "metadata": {},
     "output_type": "execute_result"
    }
   ],
   "source": [
    "data[\"Ethnicity\"].isnull().sum()"
   ]
  },
  {
   "cell_type": "code",
   "execution_count": 137,
   "id": "df05e829",
   "metadata": {
    "collapsed": true
   },
   "outputs": [
    {
     "data": {
      "text/plain": [
       "White or of European descent                                                        36236\n",
       "South Asian                                                                          4395\n",
       "Hispanic or Latino/Latina                                                            2470\n",
       "East Asian                                                                           1822\n",
       "Middle Eastern                                                                       1507\n",
       "                                                                                    ...  \n",
       "Native American, Pacific Islander, or Indigenous Australian;Biracial;Multiracial        1\n",
       "Middle Eastern;South Asian;Biracial                                                     1\n",
       "Hispanic or Latino/Latina;South Asian;White or of European descent;Multiracial          1\n",
       "Hispanic or Latino/Latina;South Asian;Biracial                                          1\n",
       "East Asian;South Asian;White or of European descent;Biracial                            1\n",
       "Name: Ethnicity, Length: 160, dtype: int64"
      ]
     },
     "execution_count": 137,
     "metadata": {},
     "output_type": "execute_result"
    }
   ],
   "source": [
    "data[\"Ethnicity\"].value_counts()"
   ]
  },
  {
   "cell_type": "code",
   "execution_count": 138,
   "id": "710a37c9",
   "metadata": {
    "collapsed": true
   },
   "outputs": [
    {
     "data": {
      "text/plain": [
       "array(['Straight / Heterosexual', 'Bisexual', nan, 'Gay or Lesbian',\n",
       "       'Bisexual;Straight / Heterosexual', 'Bisexual;Gay or Lesbian',\n",
       "       'Gay or Lesbian;Straight / Heterosexual',\n",
       "       'Bisexual;Gay or Lesbian;Straight / Heterosexual'], dtype=object)"
      ]
     },
     "execution_count": 138,
     "metadata": {},
     "output_type": "execute_result"
    }
   ],
   "source": [
    "data[\"Sexuality\"].unique()"
   ]
  },
  {
   "cell_type": "code",
   "execution_count": 139,
   "id": "9eaa839f",
   "metadata": {
    "collapsed": true
   },
   "outputs": [
    {
     "data": {
      "text/plain": [
       "Straight / Heterosexual                            47293\n",
       "Bisexual                                            2170\n",
       "Gay or Lesbian                                      1203\n",
       "Bisexual;Straight / Heterosexual                     326\n",
       "Bisexual;Gay or Lesbian                               74\n",
       "Bisexual;Gay or Lesbian;Straight / Heterosexual       40\n",
       "Gay or Lesbian;Straight / Heterosexual                16\n",
       "Name: Sexuality, dtype: int64"
      ]
     },
     "execution_count": 139,
     "metadata": {},
     "output_type": "execute_result"
    }
   ],
   "source": [
    "data[\"Sexuality\"].value_counts()"
   ]
  },
  {
   "cell_type": "code",
   "execution_count": 140,
   "id": "3c63d826",
   "metadata": {},
   "outputs": [
    {
     "data": {
      "text/plain": [
       "4701"
      ]
     },
     "execution_count": 140,
     "metadata": {},
     "output_type": "execute_result"
    }
   ],
   "source": [
    "data[\"Sexuality\"].isnull().sum()"
   ]
  },
  {
   "cell_type": "code",
   "execution_count": 141,
   "id": "d2bb647a",
   "metadata": {},
   "outputs": [],
   "source": [
    "data.dropna(subset=[\"Ethnicity\",\"Sexuality\"],inplace=True)"
   ]
  },
  {
   "cell_type": "code",
   "execution_count": 142,
   "id": "b95941f0",
   "metadata": {},
   "outputs": [
    {
     "data": {
      "text/plain": [
       "0"
      ]
     },
     "execution_count": 142,
     "metadata": {},
     "output_type": "execute_result"
    }
   ],
   "source": [
    "data[\"Ethnicity\"].isnull().sum()"
   ]
  },
  {
   "cell_type": "code",
   "execution_count": 143,
   "id": "25c895de",
   "metadata": {},
   "outputs": [
    {
     "data": {
      "text/plain": [
       "0"
      ]
     },
     "execution_count": 143,
     "metadata": {},
     "output_type": "execute_result"
    }
   ],
   "source": [
    "data[\"Sexuality\"].isnull().sum()"
   ]
  },
  {
   "cell_type": "markdown",
   "id": "7118b325",
   "metadata": {},
   "source": [
    "### Q10-Sort values by Employment and Age"
   ]
  },
  {
   "cell_type": "code",
   "execution_count": 144,
   "id": "fc6bdc7e",
   "metadata": {},
   "outputs": [],
   "source": [
    "data.sort_values(by=[\"Employment\",\"Age\"],inplace=True)"
   ]
  },
  {
   "cell_type": "code",
   "execution_count": null,
   "id": "676390fd",
   "metadata": {},
   "outputs": [],
   "source": []
  },
  {
   "cell_type": "code",
   "execution_count": 145,
   "id": "c88db182",
   "metadata": {},
   "outputs": [
    {
     "data": {
      "text/html": [
       "<div>\n",
       "<style scoped>\n",
       "    .dataframe tbody tr th:only-of-type {\n",
       "        vertical-align: middle;\n",
       "    }\n",
       "\n",
       "    .dataframe tbody tr th {\n",
       "        vertical-align: top;\n",
       "    }\n",
       "\n",
       "    .dataframe thead th {\n",
       "        text-align: right;\n",
       "    }\n",
       "</style>\n",
       "<table border=\"1\" class=\"dataframe\">\n",
       "  <thead>\n",
       "    <tr style=\"text-align: right;\">\n",
       "      <th></th>\n",
       "      <th>Employment</th>\n",
       "      <th>Age</th>\n",
       "    </tr>\n",
       "    <tr>\n",
       "      <th>Respondent</th>\n",
       "      <th></th>\n",
       "      <th></th>\n",
       "    </tr>\n",
       "  </thead>\n",
       "  <tbody>\n",
       "    <tr>\n",
       "      <th>11853</th>\n",
       "      <td>Employed full-time</td>\n",
       "      <td>1.0</td>\n",
       "    </tr>\n",
       "    <tr>\n",
       "      <th>30774</th>\n",
       "      <td>Employed full-time</td>\n",
       "      <td>1.0</td>\n",
       "    </tr>\n",
       "    <tr>\n",
       "      <th>29527</th>\n",
       "      <td>Employed full-time</td>\n",
       "      <td>2.0</td>\n",
       "    </tr>\n",
       "    <tr>\n",
       "      <th>46013</th>\n",
       "      <td>Employed full-time</td>\n",
       "      <td>2.0</td>\n",
       "    </tr>\n",
       "    <tr>\n",
       "      <th>85303</th>\n",
       "      <td>Employed full-time</td>\n",
       "      <td>2.0</td>\n",
       "    </tr>\n",
       "    <tr>\n",
       "      <th>...</th>\n",
       "      <td>...</td>\n",
       "      <td>...</td>\n",
       "    </tr>\n",
       "    <tr>\n",
       "      <th>67807</th>\n",
       "      <td>NaN</td>\n",
       "      <td>NaN</td>\n",
       "    </tr>\n",
       "    <tr>\n",
       "      <th>82245</th>\n",
       "      <td>NaN</td>\n",
       "      <td>NaN</td>\n",
       "    </tr>\n",
       "    <tr>\n",
       "      <th>82766</th>\n",
       "      <td>NaN</td>\n",
       "      <td>NaN</td>\n",
       "    </tr>\n",
       "    <tr>\n",
       "      <th>84027</th>\n",
       "      <td>NaN</td>\n",
       "      <td>NaN</td>\n",
       "    </tr>\n",
       "    <tr>\n",
       "      <th>87435</th>\n",
       "      <td>NaN</td>\n",
       "      <td>NaN</td>\n",
       "    </tr>\n",
       "  </tbody>\n",
       "</table>\n",
       "<p>48261 rows × 2 columns</p>\n",
       "</div>"
      ],
      "text/plain": [
       "                    Employment  Age\n",
       "Respondent                         \n",
       "11853       Employed full-time  1.0\n",
       "30774       Employed full-time  1.0\n",
       "29527       Employed full-time  2.0\n",
       "46013       Employed full-time  2.0\n",
       "85303       Employed full-time  2.0\n",
       "...                        ...  ...\n",
       "67807                      NaN  NaN\n",
       "82245                      NaN  NaN\n",
       "82766                      NaN  NaN\n",
       "84027                      NaN  NaN\n",
       "87435                      NaN  NaN\n",
       "\n",
       "[48261 rows x 2 columns]"
      ]
     },
     "execution_count": 145,
     "metadata": {},
     "output_type": "execute_result"
    }
   ],
   "source": [
    "data.loc[:,[\"Employment\",\"Age\"]]"
   ]
  },
  {
   "cell_type": "code",
   "execution_count": null,
   "id": "fc4cbac6",
   "metadata": {},
   "outputs": [],
   "source": []
  }
 ],
 "metadata": {
  "kernelspec": {
   "display_name": "Python 3 (ipykernel)",
   "language": "python",
   "name": "python3"
  },
  "language_info": {
   "codemirror_mode": {
    "name": "ipython",
    "version": 3
   },
   "file_extension": ".py",
   "mimetype": "text/x-python",
   "name": "python",
   "nbconvert_exporter": "python",
   "pygments_lexer": "ipython3",
   "version": "3.10.9"
  }
 },
 "nbformat": 4,
 "nbformat_minor": 5
}
